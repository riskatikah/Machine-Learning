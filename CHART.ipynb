{
 "cells": [
  {
   "cell_type": "code",
   "execution_count": null,
   "metadata": {},
   "outputs": [],
   "source": [
    "print(df)\n",
    "print(df['purchase'])\n",
    "print(df['purchase'].mean())\n",
    "print(df.groupby('gender')['purchase'].mean())\n"
   ]
  },
  {
   "cell_type": "markdown",
   "metadata": {},
   "source": [
    "### **Kapan Menggunakan Macam-Macam Jenis Bar Chart?**  \n",
    "\n",
    "Bar chart digunakan untuk membandingkan nilai kategori, tetapi ada beberapa variasi yang cocok untuk berbagai situasi. Berikut adalah jenis-jenis bar chart dan kapan menggunakannya:  \n",
    "\n",
    "---\n",
    "\n",
    "### **1️⃣ Bar Chart Biasa (Vertical Bar Chart)**\n",
    "📌 **Gunakan ketika:**  \n",
    "- Membandingkan jumlah/frekuensi antar kategori secara langsung.  \n",
    "- Data bersifat kategorikal dan tidak memiliki urutan tertentu.  \n",
    "- Contoh: Perbandingan penjualan produk berdasarkan kategori.  \n",
    "\n",
    "**📌 Contoh Kode:**  \n",
    "```python\n",
    "plt.figure(figsize=(10,6))\n",
    "sns.barplot(x='Product', y='Sales', data=df, estimator=np.sum, ci=None)\n",
    "plt.title('Total Sales per Product')\n",
    "plt.xlabel('Product')\n",
    "plt.ylabel('Total Sales')\n",
    "plt.xticks(rotation=45)\n",
    "plt.show()\n",
    "```\n",
    "✅ **Kelebihan:** Mudah dibaca dan digunakan untuk perbandingan sederhana.  \n",
    "\n",
    "---\n",
    "\n",
    "### **2️⃣ Horizontal Bar Chart**  \n",
    "📌 **Gunakan ketika:**  \n",
    "- Kategori memiliki nama panjang yang sulit dibaca pada sumbu X.  \n",
    "- Ingin menampilkan urutan dengan lebih jelas.  \n",
    "- Contoh: Perbandingan jumlah karyawan berdasarkan departemen.  \n",
    "\n",
    "**📌 Contoh Kode:**  \n",
    "```python\n",
    "plt.figure(figsize=(10,6))\n",
    "sns.barplot(y='Department', x='Employees', data=df, estimator=np.sum, ci=None, orient='h')\n",
    "plt.title('Number of Employees per Department')\n",
    "plt.ylabel('Department')\n",
    "plt.xlabel('Number of Employees')\n",
    "plt.show()\n",
    "```\n",
    "✅ **Kelebihan:** Lebih mudah dibaca jika nama kategori panjang.  \n",
    "\n",
    "---\n",
    "\n",
    "### **3️⃣ Grouped Bar Chart** (Perbandingan dalam Grup)  \n",
    "📌 **Gunakan ketika:**  \n",
    "- Membandingkan dua atau lebih kategori dalam satu grup.  \n",
    "- Contoh: Penjualan produk berdasarkan tahun.  \n",
    "\n",
    "**📌 Contoh Kode:**  \n",
    "```python\n",
    "plt.figure(figsize=(10,6))\n",
    "sns.barplot(x='Product', y='Sales', hue='Year', data=df, estimator=np.sum, ci=None)\n",
    "plt.title('Total Sales per Product by Year')\n",
    "plt.xlabel('Product')\n",
    "plt.ylabel('Total Sales')\n",
    "plt.legend(title='Year')\n",
    "plt.show()\n",
    "```\n",
    "✅ **Kelebihan:** Bisa membandingkan data dalam beberapa kategori sekaligus.  \n",
    "\n",
    "---\n",
    "\n",
    "### **4️⃣ Stacked Bar Chart** (Bar Tumpuk)  \n",
    "📌 **Gunakan ketika:**  \n",
    "- Menampilkan distribusi bagian dalam total.  \n",
    "- Contoh: Perbandingan jumlah pelanggan berdasarkan kategori dan jenis kelamin.  \n",
    "\n",
    "**📌 Contoh Kode:**  \n",
    "```python\n",
    "df_grouped = df.groupby(['Product', 'Gender'])['Sales'].sum().unstack()\n",
    "\n",
    "df_grouped.plot(kind='bar', stacked=True, figsize=(10,6))\n",
    "plt.title('Total Sales per Product by Gender')\n",
    "plt.xlabel('Product')\n",
    "plt.ylabel('Total Sales')\n",
    "plt.legend(title='Gender')\n",
    "plt.show()\n",
    "```\n",
    "✅ **Kelebihan:** Menampilkan bagian dari total dengan lebih jelas.  \n",
    "\n",
    "---\n",
    "\n",
    "### **5️⃣ 100% Stacked Bar Chart** (Distribusi Proporsi)  \n",
    "📌 **Gunakan ketika:**  \n",
    "- Ingin menunjukkan proporsi per kategori yang selalu berjumlah 100%.  \n",
    "- Contoh: Persentase pelanggan yang memilih metode pembayaran tertentu per tahun.  \n",
    "\n",
    "**📌 Contoh Kode:**  \n",
    "```python\n",
    "df_grouped_pct = df_grouped.div(df_grouped.sum(axis=1), axis=0) * 100\n",
    "\n",
    "df_grouped_pct.plot(kind='bar', stacked=True, figsize=(10,6))\n",
    "plt.title('Percentage of Sales per Product by Gender')\n",
    "plt.xlabel('Product')\n",
    "plt.ylabel('Percentage (%)')\n",
    "plt.legend(title='Gender')\n",
    "plt.show()\n",
    "```\n",
    "✅ **Kelebihan:** Menampilkan proporsi dengan lebih jelas.  \n",
    "\n",
    "---\n",
    "\n",
    "### **6️⃣ Bar Chart dengan Error Bars (Confidence Interval - CI)**  \n",
    "📌 **Gunakan ketika:**  \n",
    "- Data berasal dari sampel dan ingin menampilkan variasi atau ketidakpastian (confidence interval).  \n",
    "- Contoh: Rata-rata rating produk dengan margin of error.  \n",
    "\n",
    "**📌 Contoh Kode:**  \n",
    "```python\n",
    "plt.figure(figsize=(10,6))\n",
    "sns.barplot(x='Product', y='Rating', data=df, ci=95)  # CI default 95%\n",
    "plt.title('Average Rating per Product with Confidence Interval')\n",
    "plt.xlabel('Product')\n",
    "plt.ylabel('Average Rating')\n",
    "plt.show()\n",
    "```\n",
    "✅ **Kelebihan:** Memberikan informasi statistik tambahan.  \n",
    "\n",
    "---\n",
    "\n",
    "### **Kesimpulan**  \n",
    "| Jenis Bar Chart | Kapan Digunakan? |  \n",
    "|----------------|----------------|  \n",
    "| **Vertical Bar Chart** | Perbandingan sederhana antar kategori |  \n",
    "| **Horizontal Bar Chart** | Jika kategori memiliki nama panjang |  \n",
    "| **Grouped Bar Chart** | Membandingkan beberapa kategori dalam satu grup |  \n",
    "| **Stacked Bar Chart** | Menampilkan bagian dari total dalam satu batang |  \n",
    "| **100% Stacked Bar Chart** | Menampilkan proporsi dalam total 100% |  \n",
    "| **Bar Chart dengan CI** | Menunjukkan rata-rata dengan margin of error |  \n",
    "\n",
    "Semoga membantu! 🚀"
   ]
  },
  {
   "cell_type": "code",
   "execution_count": null,
   "metadata": {},
   "outputs": [],
   "source": [
    "import matplotlib.pyplot as plt\n",
    "import seaborn as sns\n",
    "import numpy as np"
   ]
  },
  {
   "cell_type": "code",
   "execution_count": null,
   "metadata": {},
   "outputs": [],
   "source": [
    "# Bar Chart\n",
    "plt.figure(figsize=(8, 5))\n",
    "sns.barplot(x='Kategori', y='Jumlah', data=df, palette='viridis')\n",
    "plt.title('Bar Chart Contoh')\n",
    "plt.xlabel('Kategori')\n",
    "plt.ylabel('Jumlah')\n",
    "plt.show()"
   ]
  },
  {
   "cell_type": "code",
   "execution_count": null,
   "metadata": {},
   "outputs": [],
   "source": [
    "temp_df[\"year\"].value_counts().plot(kind='barh')"
   ]
  },
  {
   "cell_type": "code",
   "execution_count": null,
   "metadata": {},
   "outputs": [],
   "source": [
    "# Pie Chart\n",
    "plt.figure(figsize=(7, 7))\n",
    "plt.pie(df['Jumlah'], labels=df['Kategori'], autopct='%1.1f%%', colors=['red', 'blue', 'green', 'purple'])\n",
    "plt.title('Pie Chart Contoh')\n",
    "plt.show()\n"
   ]
  },
  {
   "cell_type": "code",
   "execution_count": null,
   "metadata": {},
   "outputs": [],
   "source": [
    "temp_df[\"year\"].value_counts().head(5).plot(kind='pie')"
   ]
  },
  {
   "cell_type": "code",
   "execution_count": null,
   "metadata": {},
   "outputs": [],
   "source": [
    "\n",
    "# Line Chart\n",
    "plt.figure(figsize=(8, 5))\n",
    "sns.lineplot(x='Tahun', y='Penjualan', data=df_line, marker='o', color='blue')\n",
    "plt.title('Line Chart Contoh')\n",
    "plt.xlabel('Tahun')\n",
    "plt.ylabel('Penjualan')\n",
    "plt.show()"
   ]
  },
  {
   "cell_type": "code",
   "execution_count": null,
   "metadata": {},
   "outputs": [],
   "source": [
    "# Scatter Plot\n",
    "plt.figure(figsize=(8, 5))\n",
    "sns.scatterplot(x='Tinggi', y='Berat', data=df_scatter, color='red')\n",
    "plt.title('Scatter Plot Contoh')\n",
    "plt.xlabel('Tinggi (cm)')\n",
    "plt.ylabel('Berat (kg)')\n",
    "plt.show()"
   ]
  },
  {
   "cell_type": "code",
   "execution_count": null,
   "metadata": {},
   "outputs": [],
   "source": [
    "\n",
    "# Histogram\n",
    "plt.figure(figsize=(8, 5))\n",
    "sns.histplot(data, bins=30, kde=True, color='green')\n",
    "plt.title('Histogram Contoh')\n",
    "plt.xlabel('Nilai')\n",
    "plt.ylabel('Frekuensi')\n",
    "plt.show()"
   ]
  },
  {
   "cell_type": "code",
   "execution_count": null,
   "metadata": {},
   "outputs": [],
   "source": [
    "# Box Plot\n",
    "plt.figure(figsize=(8, 5))\n",
    "sns.boxplot(y=df_scatter['Berat'], color='orange')\n",
    "plt.title('Box Plot Contoh')\n",
    "plt.ylabel('Berat (kg)')\n",
    "plt.show()\n"
   ]
  },
  {
   "cell_type": "code",
   "execution_count": null,
   "metadata": {},
   "outputs": [],
   "source": [
    "# Heatmap\n",
    "plt.figure(figsize=(8, 5))\n",
    "sns.heatmap(df_scatter.corr(), annot=True, cmap='coolwarm')\n",
    "plt.title('Heatmap Contoh')\n",
    "plt.show()\n"
   ]
  }
 ],
 "metadata": {
  "kernelspec": {
   "display_name": "base",
   "language": "python",
   "name": "python3"
  },
  "language_info": {
   "codemirror_mode": {
    "name": "ipython",
    "version": 3
   },
   "file_extension": ".py",
   "mimetype": "text/x-python",
   "name": "python",
   "nbconvert_exporter": "python",
   "pygments_lexer": "ipython3",
   "version": "3.12.4"
  }
 },
 "nbformat": 4,
 "nbformat_minor": 2
}

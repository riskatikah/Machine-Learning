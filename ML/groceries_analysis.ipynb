{
 "cells": [
  {
   "cell_type": "code",
   "execution_count": 31,
   "metadata": {},
   "outputs": [],
   "source": [
    "import pandas as pd\n",
    "import numpy as np\n",
    "import seaborn as sns\n",
    "import matplotlib.pyplot as plt  \n",
    "from mlxtend.frequent_patterns import apriori, association_rules  \n",
    "\n",
    "import warnings\n",
    "warnings.filterwarnings(\"ignore\")\n"
   ]
  },
  {
   "cell_type": "code",
   "execution_count": 32,
   "metadata": {},
   "outputs": [
    {
     "data": {
      "application/vnd.microsoft.datawrangler.viewer.v0+json": {
       "columns": [
        {
         "name": "index",
         "rawType": "int64",
         "type": "integer"
        },
        {
         "name": "Member_number",
         "rawType": "int64",
         "type": "integer"
        },
        {
         "name": "Date",
         "rawType": "object",
         "type": "string"
        },
        {
         "name": "itemDescription",
         "rawType": "object",
         "type": "string"
        }
       ],
       "conversionMethod": "pd.DataFrame",
       "ref": "cb177208-a800-401e-8909-0785f6bbf302",
       "rows": [
        [
         "0",
         "1808",
         "21-07-2015",
         "tropical fruit"
        ],
        [
         "1",
         "2552",
         "05-01-2015",
         "whole milk"
        ],
        [
         "2",
         "2300",
         "19-09-2015",
         "pip fruit"
        ],
        [
         "3",
         "1187",
         "12-12-2015",
         "other vegetables"
        ],
        [
         "4",
         "3037",
         "01-02-2015",
         "whole milk"
        ]
       ],
       "shape": {
        "columns": 3,
        "rows": 5
       }
      },
      "text/html": [
       "<div>\n",
       "<style scoped>\n",
       "    .dataframe tbody tr th:only-of-type {\n",
       "        vertical-align: middle;\n",
       "    }\n",
       "\n",
       "    .dataframe tbody tr th {\n",
       "        vertical-align: top;\n",
       "    }\n",
       "\n",
       "    .dataframe thead th {\n",
       "        text-align: right;\n",
       "    }\n",
       "</style>\n",
       "<table border=\"1\" class=\"dataframe\">\n",
       "  <thead>\n",
       "    <tr style=\"text-align: right;\">\n",
       "      <th></th>\n",
       "      <th>Member_number</th>\n",
       "      <th>Date</th>\n",
       "      <th>itemDescription</th>\n",
       "    </tr>\n",
       "  </thead>\n",
       "  <tbody>\n",
       "    <tr>\n",
       "      <th>0</th>\n",
       "      <td>1808</td>\n",
       "      <td>21-07-2015</td>\n",
       "      <td>tropical fruit</td>\n",
       "    </tr>\n",
       "    <tr>\n",
       "      <th>1</th>\n",
       "      <td>2552</td>\n",
       "      <td>05-01-2015</td>\n",
       "      <td>whole milk</td>\n",
       "    </tr>\n",
       "    <tr>\n",
       "      <th>2</th>\n",
       "      <td>2300</td>\n",
       "      <td>19-09-2015</td>\n",
       "      <td>pip fruit</td>\n",
       "    </tr>\n",
       "    <tr>\n",
       "      <th>3</th>\n",
       "      <td>1187</td>\n",
       "      <td>12-12-2015</td>\n",
       "      <td>other vegetables</td>\n",
       "    </tr>\n",
       "    <tr>\n",
       "      <th>4</th>\n",
       "      <td>3037</td>\n",
       "      <td>01-02-2015</td>\n",
       "      <td>whole milk</td>\n",
       "    </tr>\n",
       "  </tbody>\n",
       "</table>\n",
       "</div>"
      ],
      "text/plain": [
       "   Member_number        Date   itemDescription\n",
       "0           1808  21-07-2015    tropical fruit\n",
       "1           2552  05-01-2015        whole milk\n",
       "2           2300  19-09-2015         pip fruit\n",
       "3           1187  12-12-2015  other vegetables\n",
       "4           3037  01-02-2015        whole milk"
      ]
     },
     "execution_count": 32,
     "metadata": {},
     "output_type": "execute_result"
    }
   ],
   "source": [
    "df = pd.read_csv('Groceries_dataset.csv')\n",
    "df.head()"
   ]
  },
  {
   "cell_type": "code",
   "execution_count": 33,
   "metadata": {},
   "outputs": [],
   "source": [
    "df['Date'] = pd.to_datetime(df['Date'], format='%d-%m-%Y', errors='coerce')\n",
    "\n",
    "dfTransaction = df.groupby(['Member_number', 'Date'])['itemDescription'].apply(list).reset_index()\n"
   ]
  },
  {
   "cell_type": "code",
   "execution_count": 34,
   "metadata": {},
   "outputs": [],
   "source": [
    "def encode_transaction(transactions): \n",
    "    unique_items = set(item for sublist in transactions for item in sublist)  \n",
    "    encoded_data = []\n",
    "    \n",
    "    for transaction in transactions:\n",
    "        encoded_data.append({item: (item in transaction) for item in unique_items})  \n",
    "        \n",
    "    return pd.DataFrame(encoded_data)\n"
   ]
  },
  {
   "cell_type": "code",
   "execution_count": 35,
   "metadata": {},
   "outputs": [],
   "source": [
    "enTran = encode_transaction(dfTransaction)"
   ]
  },
  {
   "cell_type": "code",
   "execution_count": 36,
   "metadata": {},
   "outputs": [],
   "source": [
    "frequent_itemsets = apriori(enTran, min_support=0.005, use_colnames=True)"
   ]
  },
  {
   "cell_type": "code",
   "execution_count": 37,
   "metadata": {},
   "outputs": [
    {
     "name": "stdout",
     "output_type": "stream",
     "text": [
      "            antecedents   consequents  antecedent support  consequent support  \\\n",
      "89482         (D, m, p)  (c, s, i, e)            0.333333            0.333333   \n",
      "117905  (m, t, D, n, s)     (r, o, e)            0.333333            0.333333   \n",
      "117895  (m, t, D, n, e)     (r, s, o)            0.333333            0.333333   \n",
      "117896  (e, m, t, D, s)     (r, n, o)            0.333333            0.333333   \n",
      "117897  (e, m, t, n, s)     (r, D, o)            0.333333            0.333333   \n",
      "\n",
      "         support  confidence  lift  representativity  leverage  conviction  \\\n",
      "89482   0.333333         1.0   3.0               1.0  0.222222         inf   \n",
      "117905  0.333333         1.0   3.0               1.0  0.222222         inf   \n",
      "117895  0.333333         1.0   3.0               1.0  0.222222         inf   \n",
      "117896  0.333333         1.0   3.0               1.0  0.222222         inf   \n",
      "117897  0.333333         1.0   3.0               1.0  0.222222         inf   \n",
      "\n",
      "        zhangs_metric  jaccard  certainty  kulczynski  \n",
      "89482             1.0      1.0        1.0         1.0  \n",
      "117905            1.0      1.0        1.0         1.0  \n",
      "117895            1.0      1.0        1.0         1.0  \n",
      "117896            1.0      1.0        1.0         1.0  \n",
      "117897            1.0      1.0        1.0         1.0  \n"
     ]
    }
   ],
   "source": [
    "rules = association_rules(frequent_itemsets, metric='lift', min_threshold=1.0)\n",
    "\n",
    "print(rules.sort_values(by='lift', ascending=False).head(5))"
   ]
  }
 ],
 "metadata": {
  "kernelspec": {
   "display_name": "base",
   "language": "python",
   "name": "python3"
  },
  "language_info": {
   "codemirror_mode": {
    "name": "ipython",
    "version": 3
   },
   "file_extension": ".py",
   "mimetype": "text/x-python",
   "name": "python",
   "nbconvert_exporter": "python",
   "pygments_lexer": "ipython3",
   "version": "3.12.4"
  }
 },
 "nbformat": 4,
 "nbformat_minor": 2
}

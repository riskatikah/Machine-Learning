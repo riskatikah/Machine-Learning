{
 "cells": [
  {
   "cell_type": "code",
   "execution_count": 1,
   "metadata": {},
   "outputs": [],
   "source": [
    "import networkx as nx\n",
    "import pandas as p\n",
    "import matplotlib.pyplot as pt\n",
    "import seaborn as sb"
   ]
  },
  {
   "cell_type": "code",
   "execution_count": 2,
   "metadata": {},
   "outputs": [],
   "source": [
    "df_users = p.read_csv(\"users.csv\")\n",
    "df_friendships = p.read_csv(\"friendships.csv\")"
   ]
  },
  {
   "cell_type": "code",
   "execution_count": 3,
   "metadata": {},
   "outputs": [
    {
     "data": {
      "application/vnd.microsoft.datawrangler.viewer.v0+json": {
       "columns": [
        {
         "name": "index",
         "rawType": "int64",
         "type": "integer"
        },
        {
         "name": "id",
         "rawType": "int64",
         "type": "integer"
        },
        {
         "name": "name",
         "rawType": "object",
         "type": "string"
        },
        {
         "name": "age",
         "rawType": "int64",
         "type": "integer"
        },
        {
         "name": "location",
         "rawType": "object",
         "type": "string"
        }
       ],
       "conversionMethod": "pd.DataFrame",
       "ref": "7e07f77c-9864-4419-9f6e-50dd5bba555b",
       "rows": [
        [
         "0",
         "1",
         "Alice",
         "25",
         "New York"
        ],
        [
         "1",
         "2",
         "Bob",
         "30",
         "Los Angeles"
        ],
        [
         "2",
         "3",
         "Charlie",
         "22",
         "Chicago"
        ],
        [
         "3",
         "4",
         "David",
         "28",
         "Houston"
        ],
        [
         "4",
         "5",
         "Eve",
         "27",
         "San Francisco"
        ],
        [
         "5",
         "6",
         "Frank",
         "35",
         "Miami"
        ],
        [
         "6",
         "7",
         "Grace",
         "26",
         "Seattle"
        ]
       ],
       "shape": {
        "columns": 4,
        "rows": 7
       }
      },
      "text/html": [
       "<div>\n",
       "<style scoped>\n",
       "    .dataframe tbody tr th:only-of-type {\n",
       "        vertical-align: middle;\n",
       "    }\n",
       "\n",
       "    .dataframe tbody tr th {\n",
       "        vertical-align: top;\n",
       "    }\n",
       "\n",
       "    .dataframe thead th {\n",
       "        text-align: right;\n",
       "    }\n",
       "</style>\n",
       "<table border=\"1\" class=\"dataframe\">\n",
       "  <thead>\n",
       "    <tr style=\"text-align: right;\">\n",
       "      <th></th>\n",
       "      <th>id</th>\n",
       "      <th>name</th>\n",
       "      <th>age</th>\n",
       "      <th>location</th>\n",
       "    </tr>\n",
       "  </thead>\n",
       "  <tbody>\n",
       "    <tr>\n",
       "      <th>0</th>\n",
       "      <td>1</td>\n",
       "      <td>Alice</td>\n",
       "      <td>25</td>\n",
       "      <td>New York</td>\n",
       "    </tr>\n",
       "    <tr>\n",
       "      <th>1</th>\n",
       "      <td>2</td>\n",
       "      <td>Bob</td>\n",
       "      <td>30</td>\n",
       "      <td>Los Angeles</td>\n",
       "    </tr>\n",
       "    <tr>\n",
       "      <th>2</th>\n",
       "      <td>3</td>\n",
       "      <td>Charlie</td>\n",
       "      <td>22</td>\n",
       "      <td>Chicago</td>\n",
       "    </tr>\n",
       "    <tr>\n",
       "      <th>3</th>\n",
       "      <td>4</td>\n",
       "      <td>David</td>\n",
       "      <td>28</td>\n",
       "      <td>Houston</td>\n",
       "    </tr>\n",
       "    <tr>\n",
       "      <th>4</th>\n",
       "      <td>5</td>\n",
       "      <td>Eve</td>\n",
       "      <td>27</td>\n",
       "      <td>San Francisco</td>\n",
       "    </tr>\n",
       "    <tr>\n",
       "      <th>5</th>\n",
       "      <td>6</td>\n",
       "      <td>Frank</td>\n",
       "      <td>35</td>\n",
       "      <td>Miami</td>\n",
       "    </tr>\n",
       "    <tr>\n",
       "      <th>6</th>\n",
       "      <td>7</td>\n",
       "      <td>Grace</td>\n",
       "      <td>26</td>\n",
       "      <td>Seattle</td>\n",
       "    </tr>\n",
       "  </tbody>\n",
       "</table>\n",
       "</div>"
      ],
      "text/plain": [
       "   id     name  age       location\n",
       "0   1    Alice   25       New York\n",
       "1   2      Bob   30    Los Angeles\n",
       "2   3  Charlie   22        Chicago\n",
       "3   4    David   28        Houston\n",
       "4   5      Eve   27  San Francisco\n",
       "5   6    Frank   35          Miami\n",
       "6   7    Grace   26        Seattle"
      ]
     },
     "execution_count": 3,
     "metadata": {},
     "output_type": "execute_result"
    }
   ],
   "source": [
    "df_users "
   ]
  },
  {
   "cell_type": "code",
   "execution_count": 4,
   "metadata": {},
   "outputs": [
    {
     "data": {
      "application/vnd.microsoft.datawrangler.viewer.v0+json": {
       "columns": [
        {
         "name": "index",
         "rawType": "int64",
         "type": "integer"
        },
        {
         "name": "from",
         "rawType": "int64",
         "type": "integer"
        },
        {
         "name": "to",
         "rawType": "int64",
         "type": "integer"
        }
       ],
       "conversionMethod": "pd.DataFrame",
       "ref": "6601de91-784a-4898-a6a2-4623ebe9b19e",
       "rows": [
        [
         "0",
         "1",
         "2"
        ],
        [
         "1",
         "1",
         "3"
        ],
        [
         "2",
         "1",
         "4"
        ],
        [
         "3",
         "2",
         "5"
        ],
        [
         "4",
         "3",
         "6"
        ],
        [
         "5",
         "4",
         "5"
        ],
        [
         "6",
         "5",
         "6"
        ],
        [
         "7",
         "6",
         "7"
        ],
        [
         "8",
         "7",
         "1"
        ]
       ],
       "shape": {
        "columns": 2,
        "rows": 9
       }
      },
      "text/html": [
       "<div>\n",
       "<style scoped>\n",
       "    .dataframe tbody tr th:only-of-type {\n",
       "        vertical-align: middle;\n",
       "    }\n",
       "\n",
       "    .dataframe tbody tr th {\n",
       "        vertical-align: top;\n",
       "    }\n",
       "\n",
       "    .dataframe thead th {\n",
       "        text-align: right;\n",
       "    }\n",
       "</style>\n",
       "<table border=\"1\" class=\"dataframe\">\n",
       "  <thead>\n",
       "    <tr style=\"text-align: right;\">\n",
       "      <th></th>\n",
       "      <th>from</th>\n",
       "      <th>to</th>\n",
       "    </tr>\n",
       "  </thead>\n",
       "  <tbody>\n",
       "    <tr>\n",
       "      <th>0</th>\n",
       "      <td>1</td>\n",
       "      <td>2</td>\n",
       "    </tr>\n",
       "    <tr>\n",
       "      <th>1</th>\n",
       "      <td>1</td>\n",
       "      <td>3</td>\n",
       "    </tr>\n",
       "    <tr>\n",
       "      <th>2</th>\n",
       "      <td>1</td>\n",
       "      <td>4</td>\n",
       "    </tr>\n",
       "    <tr>\n",
       "      <th>3</th>\n",
       "      <td>2</td>\n",
       "      <td>5</td>\n",
       "    </tr>\n",
       "    <tr>\n",
       "      <th>4</th>\n",
       "      <td>3</td>\n",
       "      <td>6</td>\n",
       "    </tr>\n",
       "    <tr>\n",
       "      <th>5</th>\n",
       "      <td>4</td>\n",
       "      <td>5</td>\n",
       "    </tr>\n",
       "    <tr>\n",
       "      <th>6</th>\n",
       "      <td>5</td>\n",
       "      <td>6</td>\n",
       "    </tr>\n",
       "    <tr>\n",
       "      <th>7</th>\n",
       "      <td>6</td>\n",
       "      <td>7</td>\n",
       "    </tr>\n",
       "    <tr>\n",
       "      <th>8</th>\n",
       "      <td>7</td>\n",
       "      <td>1</td>\n",
       "    </tr>\n",
       "  </tbody>\n",
       "</table>\n",
       "</div>"
      ],
      "text/plain": [
       "   from  to\n",
       "0     1   2\n",
       "1     1   3\n",
       "2     1   4\n",
       "3     2   5\n",
       "4     3   6\n",
       "5     4   5\n",
       "6     5   6\n",
       "7     6   7\n",
       "8     7   1"
      ]
     },
     "execution_count": 4,
     "metadata": {},
     "output_type": "execute_result"
    }
   ],
   "source": [
    "df_friendships"
   ]
  },
  {
   "cell_type": "code",
   "execution_count": 5,
   "metadata": {},
   "outputs": [],
   "source": [
    "\n",
    "friendMap = nx.Graph()"
   ]
  },
  {
   "cell_type": "code",
   "execution_count": 6,
   "metadata": {},
   "outputs": [],
   "source": [
    "for _, row in df_users.iterrows():\n",
    "    friendMap.add_node(row[\"id\"], name=row[\"name\"], age=row[\"age\"], location=row[\"location\"])\n",
    "\n",
    "for _, row in df_friendships.iterrows():\n",
    "    friendMap.add_edge(row[\"from\"], row[\"to\"])"
   ]
  },
  {
   "cell_type": "code",
   "execution_count": 7,
   "metadata": {},
   "outputs": [],
   "source": [
    "def findFriends(graph, user_id):\n",
    "    if user_id not in graph:\n",
    "        print(f\"User ID {user_id} not found.\")\n",
    "        return\n",
    "\n",
    "    currentFriendsID = list(graph.neighbors(user_id))\n",
    "    currentfriendsNames = [graph.nodes[x][\"name\"] for x in currentFriendsID]\n",
    "\n",
    "    user_name = graph.nodes[user_id][\"name\"]\n",
    "    print(f\"{user_name} has {len(currentfriendsNames)} friends: {', '.join(currentfriendsNames)}\")\n"
   ]
  },
  {
   "cell_type": "code",
   "execution_count": 8,
   "metadata": {},
   "outputs": [],
   "source": [
    "def recommendFriends(graph, user_id):\n",
    "    if user_id not in graph:\n",
    "        print(f\"User ID {user_id} not found.\")\n",
    "        return\n",
    "\n",
    "    currentFriendsID = set(graph.neighbors(user_id))\n",
    "\n",
    "    potentialFriendsID = set()\n",
    "    for friend in currentFriendsID:\n",
    "        potentialFriendsID.update(graph.neighbors(friend))\n",
    "\n",
    "    potentialFriendsID -= currentFriendsID\n",
    "    potentialFriendsID.discard(user_id)\n",
    "\n",
    "    potentialFriendsNames = [graph.nodes[f][\"name\"] for f in potentialFriendsID]\n",
    "\n",
    "    user_name = graph.nodes[user_id][\"name\"]\n",
    "    print(f\"Friend recommendations for {user_name}: {', '.join(potentialFriendsNames)}\")\n"
   ]
  },
  {
   "cell_type": "code",
   "execution_count": 9,
   "metadata": {},
   "outputs": [],
   "source": [
    "def add_user(graph, user_id, name, age, location):\n",
    "    if user_id in graph:\n",
    "        print(f\"User {name} (ID {user_id}) already exists.\")\n",
    "        return\n",
    "\n",
    "    graph.add_node(user_id, name=name, age=age, location=location)\n",
    "    print(f\"Added user: {name} (ID {user_id})\")"
   ]
  },
  {
   "cell_type": "code",
   "execution_count": 10,
   "metadata": {},
   "outputs": [],
   "source": [
    "def add_friendship(graph, user1_id, user2_id):\n",
    "    if user1_id not in graph or user2_id not in graph:\n",
    "        print(f\"One or both user IDs not found.\")\n",
    "        return\n",
    "\n",
    "    if graph.has_edge(user1_id, user2_id):\n",
    "        print(f\"{graph.nodes[user1_id]['name']} and {graph.nodes[user2_id]['name']} are already friends.\")\n",
    "        return\n",
    "\n",
    "    graph.add_edge(user1_id, user2_id)\n",
    "    print(f\"Created friendship between {graph.nodes[user1_id]['name']} and {graph.nodes[user2_id]['name']}\")\n"
   ]
  },
  {
   "cell_type": "code",
   "execution_count": 11,
   "metadata": {},
   "outputs": [],
   "source": [
    "def visualize_friends(graph):\n",
    "    pt.figure(figsize=(10, 6))\n",
    "    sb.set_style(\"whitegrid\")\n",
    "    \n",
    "    pos = nx.spring_layout(graph, seed=42)\n",
    "    labels = {node: data['name'] for node, data in graph.nodes(data=True)}\n",
    "    \n",
    "    nx.draw(graph, pos, with_labels=True, labels=labels, node_size=3000, node_color=\"skyblue\", edge_color=\"gray\", font_size=10, font_weight=\"bold\")\n",
    "    pt.title(\"Friendship Network\", fontsize=14)\n",
    "    pt.show()"
   ]
  },
  {
   "cell_type": "code",
   "execution_count": 12,
   "metadata": {},
   "outputs": [
    {
     "name": "stdout",
     "output_type": "stream",
     "text": [
      "Most influential user: Alice (ID 1) with influence score: 0.67\n"
     ]
    }
   ],
   "source": [
    "def most_influential_user(graph):\n",
    "    centrality = nx.degree_centrality(graph) # Mengukur jumlah teman langsung yang dimiliki seseorang\n",
    "    most_influential = max(centrality, key=centrality.get)\n",
    "    \n",
    "    name = graph.nodes[most_influential]['name']\n",
    "    influence_score = centrality[most_influential]\n",
    "    \n",
    "    print(f\"Most influential user: {name} (ID {most_influential}) with influence score: {influence_score:.2f}\")\n",
    "\n",
    "most_influential_user(friendMap)\n",
    "    "
   ]
  },
  {
   "cell_type": "code",
   "execution_count": 13,
   "metadata": {},
   "outputs": [
    {
     "name": "stdout",
     "output_type": "stream",
     "text": [
      "Highest PageRank: Alice - 0.21\n"
     ]
    }
   ],
   "source": [
    "# Seberapa sering seseorang menjadi \"jembatan\" antara dua orang lain\n",
    "# Eve mungkin tidak punya teman langsung sebanyak Alice, tetapi dia terhubung dengan orang-orang yang sangat penting.\n",
    "pagerank = nx.pagerank(friendMap)\n",
    "most_pagerank = max(pagerank, key=pagerank.get)\n",
    "print(f\"Highest PageRank: {friendMap.nodes[most_pagerank]['name']} - {pagerank[most_pagerank]:.2f}\")\n"
   ]
  },
  {
   "cell_type": "code",
   "execution_count": 14,
   "metadata": {},
   "outputs": [
    {
     "name": "stdout",
     "output_type": "stream",
     "text": [
      "Highest betweenness: Alice - 0.33\n"
     ]
    }
   ],
   "source": [
    "# seberapa penting seseorang berdasarkan hubungann\n",
    "# Eve mungkin menjadi penghubung antara banyak kelompok teman, meskipun dia tidak memiliki teman langsung sebanyak Alice\n",
    "betweenness = nx.betweenness_centrality(friendMap)\n",
    "max_betweenness = max(betweenness, key=betweenness.get)\n",
    "print(f\"Highest betweenness: {friendMap.nodes[max_betweenness]['name']} - {betweenness[max_betweenness]:.2f}\")"
   ]
  },
  {
   "cell_type": "markdown",
   "metadata": {},
   "source": [
    "Degree Centrality → Siapa yang punya paling banyak teman langsung (Populer).\n",
    "PageRank → Siapa yang paling penting berdasarkan hubungan (Seperti ranking di Google).\n",
    "Betweenness Centrality → Siapa yang paling sering jadi jembatan antar kelompok (Menghubungkan banyak orang)."
   ]
  },
  {
   "cell_type": "code",
   "execution_count": 15,
   "metadata": {},
   "outputs": [
    {
     "name": "stdout",
     "output_type": "stream",
     "text": [
      "Alice has 4 friends: Bob, Charlie, David, Grace\n",
      "Friend recommendations for Alice: Eve, Frank\n",
      "Added user: Hanif (ID 8)\n",
      "Created friendship between Hanif and Eve\n",
      "Friend recommendations for Alice: Eve, Frank\n",
      "Created friendship between Alice and Eve\n",
      "Alice has 5 friends: Bob, Charlie, David, Grace, Eve\n",
      "Friend recommendations for Alice: Frank, Hanif\n"
     ]
    },
    {
     "data": {
      "image/png": "[encoded data removed]",
      "text/plain": [
       "<Figure size 1000x600 with 1 Axes>"
      ]
     },
     "metadata": {},
     "output_type": "display_data"
    }
   ],
   "source": [
    "userID = df_users.loc[df_users[\"name\"] == \"Alice\", \"id\"].values[0]\n",
    "\n",
    "findFriends(friendMap, userID)\n",
    "recommendFriends(friendMap, userID)\n",
    "\n",
    "add_user(friendMap, 8, 'Hanif', 20, 'Cikarang')\n",
    "add_friendship(friendMap, 8, 5)\n",
    "\n",
    "recommendFriends(friendMap, userID)\n",
    "add_friendship(friendMap, 1, 5)\n",
    "\n",
    "findFriends(friendMap, userID)\n",
    "recommendFriends(friendMap, userID)\n",
    "\n",
    "visualize_friends(friendMap)\n",
    "\n"
   ]
  },
  {
   "cell_type": "code",
   "execution_count": 16,
   "metadata": {},
   "outputs": [
    {
     "name": "stdout",
     "output_type": "stream",
     "text": [
      "Highest PageRank: Alice - 0.21\n",
      "Highest betweenness: Alice - 0.33\n"
     ]
    }
   ],
   "source": [
    "import networkx as nx\n",
    "import pandas as pd\n",
    "import matplotlib.pyplot as plt\n",
    "import seaborn as sns\n",
    "\n",
    "# Membaca data pengguna dari CSV\n",
    "# File users.csv berisi kolom: id, name, age, location\n",
    "df_users = pd.read_csv(\"users.csv\")\n",
    "\n",
    "# Membaca data hubungan pertemanan dari CSV\n",
    "# File friendships.csv berisi kolom: from, to\n",
    "df_friendships = pd.read_csv(\"friendships.csv\")\n",
    "\n",
    "# Membuat graph tak berarah (karena pertemanan bersifat dua arah)\n",
    "friendMap = nx.Graph()\n",
    "\n",
    "# Menambahkan node (pengguna) ke dalam graf\n",
    "for _, row in df_users.iterrows():\n",
    "    friendMap.add_node(row[\"id\"], name=row[\"name\"], age=row[\"age\"], location=row[\"location\"])\n",
    "\n",
    "# Menambahkan edge (hubungan pertemanan)\n",
    "for _, row in df_friendships.iterrows():\n",
    "    friendMap.add_edge(row[\"from\"], row[\"to\"])\n",
    "\n",
    "# Fungsi untuk menemukan teman langsung\n",
    "def findFriends(graph, user_id):\n",
    "    if user_id not in graph:\n",
    "        print(f\"User ID {user_id} not found.\")\n",
    "        return\n",
    "\n",
    "    currentFriendsID = list(graph.neighbors(user_id))  \n",
    "    currentfriendsNames = [graph.nodes[x][\"name\"] for x in currentFriendsID]\n",
    "    user_name = graph.nodes[user_id][\"name\"]\n",
    "    print(f\"{user_name} has {len(currentfriendsNames)} friends: {', '.join(currentfriendsNames)}\")\n",
    "\n",
    "# Fungsi untuk merekomendasikan teman berdasarkan teman dari teman\n",
    "def recommendFriends(graph, user_id):\n",
    "    if user_id not in graph:\n",
    "        print(f\"User ID {user_id} not found.\")\n",
    "        return\n",
    "\n",
    "    currentFriendsID = set(graph.neighbors(user_id))\n",
    "    potentialFriendsID = set()\n",
    "    \n",
    "    for friend in currentFriendsID:\n",
    "        potentialFriendsID.update(graph.neighbors(friend))\n",
    "    \n",
    "    potentialFriendsID -= currentFriendsID\n",
    "    potentialFriendsID.discard(user_id)\n",
    "    \n",
    "    potentialFriendsNames = [graph.nodes[f][\"name\"] for f in potentialFriendsID]\n",
    "    user_name = graph.nodes[user_id][\"name\"]\n",
    "    print(f\"Friend recommendations for {user_name}: {', '.join(potentialFriendsNames)}\")\n",
    "\n",
    "# Fungsi untuk menambah pengguna baru ke dalam jaringan\n",
    "def add_user(graph, user_id, name, age, location):\n",
    "    if user_id in graph:\n",
    "        print(f\"User {name} (ID {user_id}) already exists.\")\n",
    "        return\n",
    "    graph.add_node(user_id, name=name, age=age, location=location)\n",
    "    print(f\"Added user: {name} (ID {user_id})\")\n",
    "\n",
    "# Fungsi untuk menambahkan pertemanan baru antara dua pengguna\n",
    "def add_friendship(graph, user1_id, user2_id):\n",
    "    if user1_id not in graph or user2_id not in graph:\n",
    "        print(f\"One or both user IDs not found.\")\n",
    "        return\n",
    "    if graph.has_edge(user1_id, user2_id):\n",
    "        print(f\"{graph.nodes[user1_id]['name']} and {graph.nodes[user2_id]['name']} are already friends.\")\n",
    "        return\n",
    "    graph.add_edge(user1_id, user2_id)\n",
    "    print(f\"Created friendship between {graph.nodes[user1_id]['name']} and {graph.nodes[user2_id]['name']}\")\n",
    "\n",
    "# Fungsi untuk memvisualisasikan jaringan pertemanan\n",
    "def visualize_friends(graph):\n",
    "    plt.figure(figsize=(10, 6))\n",
    "    sns.set_style(\"whitegrid\")\n",
    "    pos = nx.spring_layout(graph, seed=42)\n",
    "    labels = {node: data['name'] for node, data in graph.nodes(data=True)}\n",
    "    nx.draw(graph, pos, with_labels=True, labels=labels, node_size=3000, node_color=\"skyblue\", edge_color=\"gray\", font_size=10, font_weight=\"bold\")\n",
    "    plt.title(\"Friendship Network\", fontsize=14)\n",
    "    plt.show()\n",
    "\n",
    "# Fungsi untuk mencari pengguna paling berpengaruh berdasarkan degree centrality\n",
    "def most_influential_user(graph):\n",
    "    centrality = nx.degree_centrality(graph)\n",
    "    most_influential = max(centrality, key=centrality.get)\n",
    "    name = graph.nodes[most_influential]['name']\n",
    "    influence_score = centrality[most_influential]\n",
    "    print(f\"Most influential user: {name} (ID {most_influential}) with influence score: {influence_score:.2f}\")\n",
    "\n",
    "# Menghitung PageRank untuk menemukan pengguna paling penting\n",
    "pagerank = nx.pagerank(friendMap)\n",
    "most_pagerank = max(pagerank, key=pagerank.get)\n",
    "print(f\"Highest PageRank: {friendMap.nodes[most_pagerank]['name']} - {pagerank[most_pagerank]:.2f}\")\n",
    "\n",
    "# Menghitung Betweenness Centrality\n",
    "def calculate_betweenness(graph):\n",
    "    betweenness = nx.betweenness_centrality(graph)\n",
    "    max_betweenness = max(betweenness, key=betweenness.get)\n",
    "    print(f\"Highest betweenness: {graph.nodes[max_betweenness]['name']} - {betweenness[max_betweenness]:.2f}\")\n",
    "\n",
    "calculate_betweenness(friendMap)\n"
   ]
  }
 ],
 "metadata": {
  "kernelspec": {
   "display_name": "base",
   "language": "python",
   "name": "python3"
  },
  "language_info": {
   "codemirror_mode": {
    "name": "ipython",
    "version": 3
   },
   "file_extension": ".py",
   "mimetype": "text/x-python",
   "name": "python",
   "nbconvert_exporter": "python",
   "pygments_lexer": "ipython3",
   "version": "3.12.4"
  }
 },
 "nbformat": 4,
 "nbformat_minor": 2
}

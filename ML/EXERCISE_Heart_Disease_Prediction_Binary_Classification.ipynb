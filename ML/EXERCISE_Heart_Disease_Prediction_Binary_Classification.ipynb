{
  "metadata": {
    "kernelspec": {
      "name": "python3",
      "display_name": "Python 3",
      "language": "python"
    },
    "language_info": {
      "name": "python",
      "version": "3.10.12",
      "mimetype": "text/x-python",
      "codemirror_mode": {
        "name": "ipython",
        "version": 3
      },
      "pygments_lexer": "ipython3",
      "nbconvert_exporter": "python",
      "file_extension": ".py"
    },
    "kaggle": {
      "accelerator": "none",
      "dataSources": [
        {
          "sourceId": 1508992,
          "sourceType": "datasetVersion",
          "datasetId": 888463
        }
      ],
      "dockerImageVersionId": 30635,
      "isInternetEnabled": true,
      "language": "python",
      "sourceType": "notebook",
      "isGpuEnabled": false
    },
    "colab": {
      "provenance": []
    }
  },
  "nbformat_minor": 0,
  "nbformat": 4,
  "cells": [
    {
      "cell_type": "code",
      "source": [
        "from google.colab import drive\n",
        "drive.mount('/content/drive')"
      ],
      "metadata": {
        "id": "yIJOcMidtxuS"
      },
      "execution_count": null,
      "outputs": []
    },
    {
      "cell_type": "code",
      "source": [
        "dataPath = '/content/drive/MyDrive/02 Jobs/04 President/Dataset/'\n",
        "import os\n",
        "os.listdir(dataPath)"
      ],
      "metadata": {
        "id": "rpvxrQ-muOct",
        "outputId": "dd317780-f5bc-4603-967d-776bcb198b7c",
        "colab": {
          "base_uri": "https://localhost:8080/"
        }
      },
      "execution_count": null,
      "outputs": [
        {
          "output_type": "execute_result",
          "data": {
            "text/plain": [
              "['heart_disease_uci.csv']"
            ]
          },
          "metadata": {},
          "execution_count": 8
        }
      ]
    },
    {
      "cell_type": "markdown",
      "source": [
        "# <p style=\"background-color: #F65058FF;font-family:Algerian;font-size:150%;text-align:center;color:#28334AFF;border-radius:1000px 50px;\">About Data</p>"
      ],
      "metadata": {
        "id": "NUonmH8-smU4"
      }
    },
    {
      "cell_type": "markdown",
      "source": [
        "## Meta-Data (About Dataset):\n",
        "\n",
        "# Context:\n",
        "This is a multivariate type of dataset which means providing or involving a variety of separate mathematical or statistical variables, multivariate numerical data analysis. It is composed of 14 attributes which are age, sex, chest pain type, resting blood pressure, serum cholesterol, fasting blood sugar, resting electrocardiographic results, maximum heart rate achieved, exercise-induced angina, oldpeak — ST depression induced by exercise relative to rest, the slope of the peak exercise ST segment, number of major vessels and Thalassemia. This database includes 76 attributes, but all published studies relate to the use of a subset of 14 of them. The Cleveland database is the only one used by ML researchers to date. One of the major tasks on this dataset is to predict based on the given attributes of a patient that whether that particular person has heart disease or not and other is the experimental task to diagnose and find out various insights from this dataset which could help in understanding the problem more.\n",
        "\n",
        "## Dataset Description:\n",
        "\n",
        "| Variable   | Description                                                                                   |\n",
        "|------------|-----------------------------------------------------------------------------------------------|\n",
        "| age        | Age of the patient in years                                                                   |\n",
        "| sex        | Gender of the patient (0 = male, 1 = female)                                                  |\n",
        "| cp         | Chest pain type: 0: Typical angina, 1: Atypical angina, 2: Non-anginal pain, 3: Asymptomatic |\n",
        "| trestbps   | Resting blood pressure in mm Hg                                                               |\n",
        "| chol       | Serum cholesterol in mg/dl                                                                    |\n",
        "| fbs        | Fasting blood sugar level, categorized as above 120 mg/dl (1 = true, 0 = false)               |\n",
        "| restecg    | Resting electrocardiographic results: 0: Normal, 1: Having ST-T wave abnormality, 2: Showing probable or definite left ventricular hypertrophy |\n",
        "| thalach    | Maximum heart rate achieved during a stress test                                              |\n",
        "| exang      | Exercise-induced angina (1 = yes, 0 = no)                                                     |\n",
        "| oldpeak    | ST depression induced by exercise relative to rest                                             |\n",
        "| slope      | Slope of the peak exercise ST segment: 0: Upsloping, 1: Flat, 2: Downsloping                   |\n",
        "| ca         | Number of major vessels (0-4) colored by fluoroscopy                                           |\n",
        "| thal       | Thalium stress test result: 0: Normal, 1: Fixed defect, 2: Reversible defect, 3: Not described |\n",
        "| target     | Heart disease status (0 = no disease, 1 = presence of disease)                                 |\n",
        "\n",
        "### Acknowledgements:\n",
        "\n",
        "## Creators:\n",
        "- Hungarian Institute of Cardiology. Budapest: Andras Janosi, M.D.\n",
        "- University Hospital, Zurich, Switzerland: William Steinbrunn, M.D.\n",
        "- University Hospital, Basel, Switzerland: Matthias Pfisterer, M.D.\n",
        "- V.A. Medical Center, Long Beach and Cleveland Clinic Foundation: Robert Detrano, M.D., Ph.D.\n",
        "\n",
        "## Relevant Papers:\n",
        "- Detrano, R., Janosi, A., Steinbrunn, W., Pfisterer, M., Schmid, J., Sandhu, S., Guppy, K., Lee, S., & Froelicher, V. (1989). International application of a new probability algorithm for the diagnosis of coronary artery disease. American Journal of Cardiology, 64,304--310.\n",
        "- David W. Aha & Dennis Kibler. \"Instance-based prediction of heart-disease presence with the Cleveland database.\"\n",
        "- Gennari, J.H., Langley, P, & Fisher, D. (1989). Models of incremental concept formation. Artificial Intelligence, 40, 11--61.\n",
        "\n",
        "## Citation Request:\n",
        "The authors of the databases have requested that any publications resulting from the use of the data include the names of the principal investigator responsible for the data collection at each institution.\n",
        "\n",
        "They would be:\n",
        "- Hungarian Institute of Cardiology. Budapest: Andras Janosi, M.D.\n",
        "- University Hospital, Zurich, Switzerland: William Steinbrunn, M.D.\n",
        "- University Hospital, Basel, Switzerland: Matthias Pfisterer, M.D.\n",
        "- V.A. Medical Center, Long Beach and Cleveland Clinic Foundation: Robert Detrano, M.D., Ph.D.\n"
      ],
      "metadata": {
        "id": "AA8rXwZXsmU4"
      }
    },
    {
      "cell_type": "markdown",
      "source": [
        "# <p style=\"background-color: #F65058FF;font-family:Algerian;font-size:150%;text-align:center;color:#28334AFF;border-radius:1000px 50px;\">Aims and Objective</p>"
      ],
      "metadata": {
        "id": "OB7hSdSqsmU5"
      }
    },
    {
      "cell_type": "markdown",
      "source": [
        "\n",
        "\n",
        "1. **Exploratory Data Analysis (EDA):** Conduct an in-depth exploration of the dataset to gain valuable insights into its structure, patterns, and characteristics.\n",
        "\n",
        "2. **Data Preprocessing for ML:** Implement robust preprocessing techniques to ensure data quality and prepare it for effective utilization in Machine Learning tasks, including handling missing values and scaling features.\n",
        "\n",
        "3. **Random Forest and XGB Classifier Training:** Employ state-of-the-art algorithms, namely Random Forest and XGB Classifier, to train models that leverage the dataset's nuances, aiming for high accuracy and predictive power.\n",
        "\n",
        "Through these steps, the objective is to enhance understanding, optimize data quality, and deploy advanced models for insightful analysis and informed decision-making.\n",
        "</h>"
      ],
      "metadata": {
        "id": "R_Uh-sxnsmU5"
      }
    },
    {
      "cell_type": "markdown",
      "source": [
        "# <p style=\"background-color: #F65058FF;font-family:Algerian;font-size:150%;text-align:center;color:#28334AFF;border-radius:1000px 50px;\">Libraries and Utilizs</p>"
      ],
      "metadata": {
        "id": "jAl5_FCpsmU6"
      }
    },
    {
      "cell_type": "code",
      "source": [
        "# import libraries\n",
        "\n",
        "# 1. to handle the data\n",
        "import pandas as pd\n",
        "import numpy as np\n",
        "\n",
        "# to visualize the dataset\n",
        "import matplotlib.pyplot as plt\n",
        "import seaborn as sns\n",
        "import plotly.express as px\n",
        "import plotly.figure_factory as ff\n",
        "import plotly.graph_objects as go\n",
        "\n",
        "# To preprocess the data\n",
        "from sklearn.preprocessing import StandardScaler, MinMaxScaler, LabelEncoder\n",
        "from sklearn.impute import SimpleImputer, KNNImputer\n",
        "# import iterative imputer\n",
        "from sklearn.experimental import enable_iterative_imputer\n",
        "from sklearn.impute import IterativeImputer\n",
        "\n",
        "# machine learning\n",
        "from sklearn.model_selection import train_test_split, GridSearchCV, cross_val_score\n",
        "#for classification tasks\n",
        "from sklearn.linear_model import LogisticRegression\n",
        "from sklearn.neighbors import KNeighborsClassifier\n",
        "from sklearn.svm import SVC\n",
        "from sklearn.tree import DecisionTreeClassifier\n",
        "from sklearn.ensemble import RandomForestClassifier, AdaBoostClassifier, GradientBoostingClassifier, RandomForestRegressor\n",
        "from xgboost import XGBClassifier\n",
        "from sklearn.preprocessing import KBinsDiscretizer\n",
        "#metrics\n",
        "from sklearn.metrics import accuracy_score, confusion_matrix, classification_report, mean_absolute_error, mean_squared_error, r2_score\n",
        "\n",
        "# ignore warnings\n",
        "import warnings\n",
        "warnings.filterwarnings('ignore')"
      ],
      "metadata": {
        "execution": {
          "iopub.status.busy": "2025-04-09T03:48:43.806217Z",
          "iopub.execute_input": "2025-04-09T03:48:43.806526Z",
          "iopub.status.idle": "2025-04-09T03:48:48.737095Z",
          "shell.execute_reply.started": "2025-04-09T03:48:43.806498Z",
          "shell.execute_reply": "2025-04-09T03:48:48.735882Z"
        },
        "trusted": true,
        "id": "ov2-ki5KsmU6"
      },
      "outputs": [],
      "execution_count": null
    },
    {
      "cell_type": "markdown",
      "source": [
        "# <p style=\"background-color: #F65058FF;font-family:Algerian;font-size:150%;text-align:center;color:#28334AFF;border-radius:1000px 50px;\">Data Overview</p>"
      ],
      "metadata": {
        "id": "K83UmhjQsmU6"
      }
    },
    {
      "cell_type": "code",
      "source": [
        "# load the data from csv file placed locally in our pc\n",
        "# df = pd.read_csv('/kaggle/input/heart-disease-data/heart_disease_uci.csv')\n",
        "df = pd.read_csv(dataPath + 'heart_disease_uci.csv')\n",
        "# print the first 5 rows of the dataframe\n",
        "df.head()"
      ],
      "metadata": {
        "execution": {
          "iopub.status.busy": "2025-04-09T03:48:55.884765Z",
          "iopub.execute_input": "2025-04-09T03:48:55.885272Z",
          "iopub.status.idle": "2025-04-09T03:48:55.972073Z",
          "shell.execute_reply.started": "2025-04-09T03:48:55.885233Z",
          "shell.execute_reply": "2025-04-09T03:48:55.970617Z"
        },
        "trusted": true,
        "id": "O2JDhiW1smU6",
        "outputId": "30219170-0ff2-4488-bfcd-81352101ce59",
        "colab": {
          "base_uri": "https://localhost:8080/",
          "height": 295
        }
      },
      "outputs": [
        {
          "output_type": "execute_result",
          "data": {
            "text/plain": [
              "   id  age     sex    dataset               cp  trestbps   chol    fbs  \\\n",
              "0   1   63    Male  Cleveland   typical angina     145.0  233.0   True   \n",
              "1   2   67    Male  Cleveland     asymptomatic     160.0  286.0  False   \n",
              "2   3   67    Male  Cleveland     asymptomatic     120.0  229.0  False   \n",
              "3   4   37    Male  Cleveland      non-anginal     130.0  250.0  False   \n",
              "4   5   41  Female  Cleveland  atypical angina     130.0  204.0  False   \n",
              "\n",
              "          restecg  thalch  exang  oldpeak        slope   ca  \\\n",
              "0  lv hypertrophy   150.0  False      2.3  downsloping  0.0   \n",
              "1  lv hypertrophy   108.0   True      1.5         flat  3.0   \n",
              "2  lv hypertrophy   129.0   True      2.6         flat  2.0   \n",
              "3          normal   187.0  False      3.5  downsloping  0.0   \n",
              "4  lv hypertrophy   172.0  False      1.4    upsloping  0.0   \n",
              "\n",
              "                thal  num  \n",
              "0       fixed defect    0  \n",
              "1             normal    2  \n",
              "2  reversable defect    1  \n",
              "3             normal    0  \n",
              "4             normal    0  "
            ],
            "text/html": [
              "\n",
              "  <div id=\"df-5817ec5a-2bdf-42d6-868f-9bbeb75bab98\" class=\"colab-df-container\">\n",
              "    <div>\n",
              "<style scoped>\n",
              "    .dataframe tbody tr th:only-of-type {\n",
              "        vertical-align: middle;\n",
              "    }\n",
              "\n",
              "    .dataframe tbody tr th {\n",
              "        vertical-align: top;\n",
              "    }\n",
              "\n",
              "    .dataframe thead th {\n",
              "        text-align: right;\n",
              "    }\n",
              "</style>\n",
              "<table border=\"1\" class=\"dataframe\">\n",
              "  <thead>\n",
              "    <tr style=\"text-align: right;\">\n",
              "      <th></th>\n",
              "      <th>id</th>\n",
              "      <th>age</th>\n",
              "      <th>sex</th>\n",
              "      <th>dataset</th>\n",
              "      <th>cp</th>\n",
              "      <th>trestbps</th>\n",
              "      <th>chol</th>\n",
              "      <th>fbs</th>\n",
              "      <th>restecg</th>\n",
              "      <th>thalch</th>\n",
              "      <th>exang</th>\n",
              "      <th>oldpeak</th>\n",
              "      <th>slope</th>\n",
              "      <th>ca</th>\n",
              "      <th>thal</th>\n",
              "      <th>num</th>\n",
              "    </tr>\n",
              "  </thead>\n",
              "  <tbody>\n",
              "    <tr>\n",
              "      <th>0</th>\n",
              "      <td>1</td>\n",
              "      <td>63</td>\n",
              "      <td>Male</td>\n",
              "      <td>Cleveland</td>\n",
              "      <td>typical angina</td>\n",
              "      <td>145.0</td>\n",
              "      <td>233.0</td>\n",
              "      <td>True</td>\n",
              "      <td>lv hypertrophy</td>\n",
              "      <td>150.0</td>\n",
              "      <td>False</td>\n",
              "      <td>2.3</td>\n",
              "      <td>downsloping</td>\n",
              "      <td>0.0</td>\n",
              "      <td>fixed defect</td>\n",
              "      <td>0</td>\n",
              "    </tr>\n",
              "    <tr>\n",
              "      <th>1</th>\n",
              "      <td>2</td>\n",
              "      <td>67</td>\n",
              "      <td>Male</td>\n",
              "      <td>Cleveland</td>\n",
              "      <td>asymptomatic</td>\n",
              "      <td>160.0</td>\n",
              "      <td>286.0</td>\n",
              "      <td>False</td>\n",
              "      <td>lv hypertrophy</td>\n",
              "      <td>108.0</td>\n",
              "      <td>True</td>\n",
              "      <td>1.5</td>\n",
              "      <td>flat</td>\n",
              "      <td>3.0</td>\n",
              "      <td>normal</td>\n",
              "      <td>2</td>\n",
              "    </tr>\n",
              "    <tr>\n",
              "      <th>2</th>\n",
              "      <td>3</td>\n",
              "      <td>67</td>\n",
              "      <td>Male</td>\n",
              "      <td>Cleveland</td>\n",
              "      <td>asymptomatic</td>\n",
              "      <td>120.0</td>\n",
              "      <td>229.0</td>\n",
              "      <td>False</td>\n",
              "      <td>lv hypertrophy</td>\n",
              "      <td>129.0</td>\n",
              "      <td>True</td>\n",
              "      <td>2.6</td>\n",
              "      <td>flat</td>\n",
              "      <td>2.0</td>\n",
              "      <td>reversable defect</td>\n",
              "      <td>1</td>\n",
              "    </tr>\n",
              "    <tr>\n",
              "      <th>3</th>\n",
              "      <td>4</td>\n",
              "      <td>37</td>\n",
              "      <td>Male</td>\n",
              "      <td>Cleveland</td>\n",
              "      <td>non-anginal</td>\n",
              "      <td>130.0</td>\n",
              "      <td>250.0</td>\n",
              "      <td>False</td>\n",
              "      <td>normal</td>\n",
              "      <td>187.0</td>\n",
              "      <td>False</td>\n",
              "      <td>3.5</td>\n",
              "      <td>downsloping</td>\n",
              "      <td>0.0</td>\n",
              "      <td>normal</td>\n",
              "      <td>0</td>\n",
              "    </tr>\n",
              "    <tr>\n",
              "      <th>4</th>\n",
              "      <td>5</td>\n",
              "      <td>41</td>\n",
              "      <td>Female</td>\n",
              "      <td>Cleveland</td>\n",
              "      <td>atypical angina</td>\n",
              "      <td>130.0</td>\n",
              "      <td>204.0</td>\n",
              "      <td>False</td>\n",
              "      <td>lv hypertrophy</td>\n",
              "      <td>172.0</td>\n",
              "      <td>False</td>\n",
              "      <td>1.4</td>\n",
              "      <td>upsloping</td>\n",
              "      <td>0.0</td>\n",
              "      <td>normal</td>\n",
              "      <td>0</td>\n",
              "    </tr>\n",
              "  </tbody>\n",
              "</table>\n",
              "</div>\n",
              "    <div class=\"colab-df-buttons\">\n",
              "\n",
              "  <div class=\"colab-df-container\">\n",
              "    <button class=\"colab-df-convert\" onclick=\"convertToInteractive('df-5817ec5a-2bdf-42d6-868f-9bbeb75bab98')\"\n",
              "            title=\"Convert this dataframe to an interactive table.\"\n",
              "            style=\"display:none;\">\n",
              "\n",
              "  <svg xmlns=\"http://www.w3.org/2000/svg\" height=\"24px\" viewBox=\"0 -960 960 960\">\n",
              "    <path d=\"M120-120v-720h720v720H120Zm60-500h600v-160H180v160Zm220 220h160v-160H400v160Zm0 220h160v-160H400v160ZM180-400h160v-160H180v160Zm440 0h160v-160H620v160ZM180-180h160v-160H180v160Zm440 0h160v-160H620v160Z\"/>\n",
              "  </svg>\n",
              "    </button>\n",
              "\n",
              "  <style>\n",
              "    .colab-df-container {\n",
              "      display:flex;\n",
              "      gap: 12px;\n",
              "    }\n",
              "\n",
              "    .colab-df-convert {\n",
              "      background-color: #E8F0FE;\n",
              "      border: none;\n",
              "      border-radius: 50%;\n",
              "      cursor: pointer;\n",
              "      display: none;\n",
              "      fill: #1967D2;\n",
              "      height: 32px;\n",
              "      padding: 0 0 0 0;\n",
              "      width: 32px;\n",
              "    }\n",
              "\n",
              "    .colab-df-convert:hover {\n",
              "      background-color: #E2EBFA;\n",
              "      box-shadow: 0px 1px 2px rgba(60, 64, 67, 0.3), 0px 1px 3px 1px rgba(60, 64, 67, 0.15);\n",
              "      fill: #174EA6;\n",
              "    }\n",
              "\n",
              "    .colab-df-buttons div {\n",
              "      margin-bottom: 4px;\n",
              "    }\n",
              "\n",
              "    [theme=dark] .colab-df-convert {\n",
              "      background-color: #3B4455;\n",
              "      fill: #D2E3FC;\n",
              "    }\n",
              "\n",
              "    [theme=dark] .colab-df-convert:hover {\n",
              "      background-color: #434B5C;\n",
              "      box-shadow: 0px 1px 3px 1px rgba(0, 0, 0, 0.15);\n",
              "      filter: drop-shadow(0px 1px 2px rgba(0, 0, 0, 0.3));\n",
              "      fill: #FFFFFF;\n",
              "    }\n",
              "  </style>\n",
              "\n",
              "    <script>\n",
              "      const buttonEl =\n",
              "        document.querySelector('#df-5817ec5a-2bdf-42d6-868f-9bbeb75bab98 button.colab-df-convert');\n",
              "      buttonEl.style.display =\n",
              "        google.colab.kernel.accessAllowed ? 'block' : 'none';\n",
              "\n",
              "      async function convertToInteractive(key) {\n",
              "        const element = document.querySelector('#df-5817ec5a-2bdf-42d6-868f-9bbeb75bab98');\n",
              "        const dataTable =\n",
              "          await google.colab.kernel.invokeFunction('convertToInteractive',\n",
              "                                                    [key], {});\n",
              "        if (!dataTable) return;\n",
              "\n",
              "        const docLinkHtml = 'Like what you see? Visit the ' +\n",
              "          '<a target=\"_blank\" href=https://colab.research.google.com/notebooks/data_table.ipynb>data table notebook</a>'\n",
              "          + ' to learn more about interactive tables.';\n",
              "        element.innerHTML = '';\n",
              "        dataTable['output_type'] = 'display_data';\n",
              "        await google.colab.output.renderOutput(dataTable, element);\n",
              "        const docLink = document.createElement('div');\n",
              "        docLink.innerHTML = docLinkHtml;\n",
              "        element.appendChild(docLink);\n",
              "      }\n",
              "    </script>\n",
              "  </div>\n",
              "\n",
              "\n",
              "<div id=\"df-6424de66-b832-4ed1-9ab2-ca838900f4cf\">\n",
              "  <button class=\"colab-df-quickchart\" onclick=\"quickchart('df-6424de66-b832-4ed1-9ab2-ca838900f4cf')\"\n",
              "            title=\"Suggest charts\"\n",
              "            style=\"display:none;\">\n",
              "\n",
              "<svg xmlns=\"http://www.w3.org/2000/svg\" height=\"24px\"viewBox=\"0 0 24 24\"\n",
              "     width=\"24px\">\n",
              "    <g>\n",
              "        <path d=\"M19 3H5c-1.1 0-2 .9-2 2v14c0 1.1.9 2 2 2h14c1.1 0 2-.9 2-2V5c0-1.1-.9-2-2-2zM9 17H7v-7h2v7zm4 0h-2V7h2v10zm4 0h-2v-4h2v4z\"/>\n",
              "    </g>\n",
              "</svg>\n",
              "  </button>\n",
              "\n",
              "<style>\n",
              "  .colab-df-quickchart {\n",
              "      --bg-color: #E8F0FE;\n",
              "      --fill-color: #1967D2;\n",
              "      --hover-bg-color: #E2EBFA;\n",
              "      --hover-fill-color: #174EA6;\n",
              "      --disabled-fill-color: #AAA;\n",
              "      --disabled-bg-color: #DDD;\n",
              "  }\n",
              "\n",
              "  [theme=dark] .colab-df-quickchart {\n",
              "      --bg-color: #3B4455;\n",
              "      --fill-color: #D2E3FC;\n",
              "      --hover-bg-color: #434B5C;\n",
              "      --hover-fill-color: #FFFFFF;\n",
              "      --disabled-bg-color: #3B4455;\n",
              "      --disabled-fill-color: #666;\n",
              "  }\n",
              "\n",
              "  .colab-df-quickchart {\n",
              "    background-color: var(--bg-color);\n",
              "    border: none;\n",
              "    border-radius: 50%;\n",
              "    cursor: pointer;\n",
              "    display: none;\n",
              "    fill: var(--fill-color);\n",
              "    height: 32px;\n",
              "    padding: 0;\n",
              "    width: 32px;\n",
              "  }\n",
              "\n",
              "  .colab-df-quickchart:hover {\n",
              "    background-color: var(--hover-bg-color);\n",
              "    box-shadow: 0 1px 2px rgba(60, 64, 67, 0.3), 0 1px 3px 1px rgba(60, 64, 67, 0.15);\n",
              "    fill: var(--button-hover-fill-color);\n",
              "  }\n",
              "\n",
              "  .colab-df-quickchart-complete:disabled,\n",
              "  .colab-df-quickchart-complete:disabled:hover {\n",
              "    background-color: var(--disabled-bg-color);\n",
              "    fill: var(--disabled-fill-color);\n",
              "    box-shadow: none;\n",
              "  }\n",
              "\n",
              "  .colab-df-spinner {\n",
              "    border: 2px solid var(--fill-color);\n",
              "    border-color: transparent;\n",
              "    border-bottom-color: var(--fill-color);\n",
              "    animation:\n",
              "      spin 1s steps(1) infinite;\n",
              "  }\n",
              "\n",
              "  @keyframes spin {\n",
              "    0% {\n",
              "      border-color: transparent;\n",
              "      border-bottom-color: var(--fill-color);\n",
              "      border-left-color: var(--fill-color);\n",
              "    }\n",
              "    20% {\n",
              "      border-color: transparent;\n",
              "      border-left-color: var(--fill-color);\n",
              "      border-top-color: var(--fill-color);\n",
              "    }\n",
              "    30% {\n",
              "      border-color: transparent;\n",
              "      border-left-color: var(--fill-color);\n",
              "      border-top-color: var(--fill-color);\n",
              "      border-right-color: var(--fill-color);\n",
              "    }\n",
              "    40% {\n",
              "      border-color: transparent;\n",
              "      border-right-color: var(--fill-color);\n",
              "      border-top-color: var(--fill-color);\n",
              "    }\n",
              "    60% {\n",
              "      border-color: transparent;\n",
              "      border-right-color: var(--fill-color);\n",
              "    }\n",
              "    80% {\n",
              "      border-color: transparent;\n",
              "      border-right-color: var(--fill-color);\n",
              "      border-bottom-color: var(--fill-color);\n",
              "    }\n",
              "    90% {\n",
              "      border-color: transparent;\n",
              "      border-bottom-color: var(--fill-color);\n",
              "    }\n",
              "  }\n",
              "</style>\n",
              "\n",
              "  <script>\n",
              "    async function quickchart(key) {\n",
              "      const quickchartButtonEl =\n",
              "        document.querySelector('#' + key + ' button');\n",
              "      quickchartButtonEl.disabled = true;  // To prevent multiple clicks.\n",
              "      quickchartButtonEl.classList.add('colab-df-spinner');\n",
              "      try {\n",
              "        const charts = await google.colab.kernel.invokeFunction(\n",
              "            'suggestCharts', [key], {});\n",
              "      } catch (error) {\n",
              "        console.error('Error during call to suggestCharts:', error);\n",
              "      }\n",
              "      quickchartButtonEl.classList.remove('colab-df-spinner');\n",
              "      quickchartButtonEl.classList.add('colab-df-quickchart-complete');\n",
              "    }\n",
              "    (() => {\n",
              "      let quickchartButtonEl =\n",
              "        document.querySelector('#df-6424de66-b832-4ed1-9ab2-ca838900f4cf button');\n",
              "      quickchartButtonEl.style.display =\n",
              "        google.colab.kernel.accessAllowed ? 'block' : 'none';\n",
              "    })();\n",
              "  </script>\n",
              "</div>\n",
              "\n",
              "    </div>\n",
              "  </div>\n"
            ],
            "application/vnd.google.colaboratory.intrinsic+json": {
              "type": "dataframe",
              "variable_name": "df",
              "summary": "{\n  \"name\": \"df\",\n  \"rows\": 920,\n  \"fields\": [\n    {\n      \"column\": \"id\",\n      \"properties\": {\n        \"dtype\": \"number\",\n        \"std\": 265,\n        \"min\": 1,\n        \"max\": 920,\n        \"num_unique_values\": 920,\n        \"samples\": [\n          320,\n          378,\n          539\n        ],\n        \"semantic_type\": \"\",\n        \"description\": \"\"\n      }\n    },\n    {\n      \"column\": \"age\",\n      \"properties\": {\n        \"dtype\": \"number\",\n        \"std\": 9,\n        \"min\": 28,\n        \"max\": 77,\n        \"num_unique_values\": 50,\n        \"samples\": [\n          64,\n          74,\n          39\n        ],\n        \"semantic_type\": \"\",\n        \"description\": \"\"\n      }\n    },\n    {\n      \"column\": \"sex\",\n      \"properties\": {\n        \"dtype\": \"category\",\n        \"num_unique_values\": 2,\n        \"samples\": [\n          \"Female\",\n          \"Male\"\n        ],\n        \"semantic_type\": \"\",\n        \"description\": \"\"\n      }\n    },\n    {\n      \"column\": \"dataset\",\n      \"properties\": {\n        \"dtype\": \"category\",\n        \"num_unique_values\": 4,\n        \"samples\": [\n          \"Hungary\",\n          \"VA Long Beach\"\n        ],\n        \"semantic_type\": \"\",\n        \"description\": \"\"\n      }\n    },\n    {\n      \"column\": \"cp\",\n      \"properties\": {\n        \"dtype\": \"category\",\n        \"num_unique_values\": 4,\n        \"samples\": [\n          \"asymptomatic\",\n          \"atypical angina\"\n        ],\n        \"semantic_type\": \"\",\n        \"description\": \"\"\n      }\n    },\n    {\n      \"column\": \"trestbps\",\n      \"properties\": {\n        \"dtype\": \"number\",\n        \"std\": 19.066069518587458,\n        \"min\": 0.0,\n        \"max\": 200.0,\n        \"num_unique_values\": 61,\n        \"samples\": [\n          145.0,\n          172.0\n        ],\n        \"semantic_type\": \"\",\n        \"description\": \"\"\n      }\n    },\n    {\n      \"column\": \"chol\",\n      \"properties\": {\n        \"dtype\": \"number\",\n        \"std\": 110.78081035323044,\n        \"min\": 0.0,\n        \"max\": 603.0,\n        \"num_unique_values\": 217,\n        \"samples\": [\n          384.0,\n          333.0\n        ],\n        \"semantic_type\": \"\",\n        \"description\": \"\"\n      }\n    },\n    {\n      \"column\": \"fbs\",\n      \"properties\": {\n        \"dtype\": \"category\",\n        \"num_unique_values\": 2,\n        \"samples\": [\n          false,\n          true\n        ],\n        \"semantic_type\": \"\",\n        \"description\": \"\"\n      }\n    },\n    {\n      \"column\": \"restecg\",\n      \"properties\": {\n        \"dtype\": \"category\",\n        \"num_unique_values\": 3,\n        \"samples\": [\n          \"lv hypertrophy\",\n          \"normal\"\n        ],\n        \"semantic_type\": \"\",\n        \"description\": \"\"\n      }\n    },\n    {\n      \"column\": \"thalch\",\n      \"properties\": {\n        \"dtype\": \"number\",\n        \"std\": 25.926276492797612,\n        \"min\": 60.0,\n        \"max\": 202.0,\n        \"num_unique_values\": 119,\n        \"samples\": [\n          185.0,\n          134.0\n        ],\n        \"semantic_type\": \"\",\n        \"description\": \"\"\n      }\n    },\n    {\n      \"column\": \"exang\",\n      \"properties\": {\n        \"dtype\": \"category\",\n        \"num_unique_values\": 2,\n        \"samples\": [\n          true,\n          false\n        ],\n        \"semantic_type\": \"\",\n        \"description\": \"\"\n      }\n    },\n    {\n      \"column\": \"oldpeak\",\n      \"properties\": {\n        \"dtype\": \"number\",\n        \"std\": 1.0912262483465265,\n        \"min\": -2.6,\n        \"max\": 6.2,\n        \"num_unique_values\": 53,\n        \"samples\": [\n          2.4,\n          -1.1\n        ],\n        \"semantic_type\": \"\",\n        \"description\": \"\"\n      }\n    },\n    {\n      \"column\": \"slope\",\n      \"properties\": {\n        \"dtype\": \"category\",\n        \"num_unique_values\": 3,\n        \"samples\": [\n          \"downsloping\",\n          \"flat\"\n        ],\n        \"semantic_type\": \"\",\n        \"description\": \"\"\n      }\n    },\n    {\n      \"column\": \"ca\",\n      \"properties\": {\n        \"dtype\": \"number\",\n        \"std\": 0.9356530125599879,\n        \"min\": 0.0,\n        \"max\": 3.0,\n        \"num_unique_values\": 4,\n        \"samples\": [\n          3.0,\n          1.0\n        ],\n        \"semantic_type\": \"\",\n        \"description\": \"\"\n      }\n    },\n    {\n      \"column\": \"thal\",\n      \"properties\": {\n        \"dtype\": \"category\",\n        \"num_unique_values\": 3,\n        \"samples\": [\n          \"fixed defect\",\n          \"normal\"\n        ],\n        \"semantic_type\": \"\",\n        \"description\": \"\"\n      }\n    },\n    {\n      \"column\": \"num\",\n      \"properties\": {\n        \"dtype\": \"number\",\n        \"std\": 1,\n        \"min\": 0,\n        \"max\": 4,\n        \"num_unique_values\": 5,\n        \"samples\": [\n          2,\n          4\n        ],\n        \"semantic_type\": \"\",\n        \"description\": \"\"\n      }\n    }\n  ]\n}"
            }
          },
          "metadata": {},
          "execution_count": 9
        }
      ],
      "execution_count": null
    },
    {
      "cell_type": "markdown",
      "source": [
        "- **Let's explore the gender based distribution of the dataset for age column.**"
      ],
      "metadata": {
        "id": "baptehpIsmU7"
      }
    },
    {
      "cell_type": "markdown",
      "source": [
        "- **Dataset Column**"
      ],
      "metadata": {
        "id": "cTeUiJpEsmU7"
      }
    },
    {
      "cell_type": "markdown",
      "source": [
        "- **Let's explore cp (Chest Pain) column:**\n",
        "\n",
        " **Types of Chest pain :**\n",
        "\n",
        "    1. Asymptomatic: No chest pain or discomfort.\n",
        "    2. Non-Anginal: Chest pain not typical of heart-related issues; requires further investigation.\n",
        "    3. Atypical Angina: Chest pain with characteristics different from typical heart-related chest pain.\n",
        "    4. Typical Angina: Classic chest pain indicating potential insufficient blood supply to the heart."
      ],
      "metadata": {
        "id": "nbRSc_CjsmU7"
      }
    },
    {
      "cell_type": "markdown",
      "source": [
        "- **Let'e explore the trestbps (resting blood pressure) column:**\n",
        "\n",
        "The normal resting blood pressure is 120/80 mm Hg.\n",
        "\n",
        "high blood pressure increasing the risk of heart disease and stroke, often asymptomatic, while low blood pressure can lead to dizziness and fainting"
      ],
      "metadata": {
        "id": "ukV0zYegsmU_"
      }
    },
    {
      "cell_type": "markdown",
      "source": [
        "- **Lets Explore the chol Column**\n",
        "\n",
        "What is the chol :  a fatty substance essential for body function, but elevated levels can contribute to heart disease."
      ],
      "metadata": {
        "id": "3qYJ0BbRsmU_"
      }
    },
    {
      "cell_type": "markdown",
      "source": [
        "- **Lets Explore Thal ( Thalesmia)**\n",
        "\n",
        "    Normal: Within expected or healthy parameters.\n",
        "\n",
        "    Reversible Defect: An abnormality that can potentially be corrected or improved.\n",
        "\n",
        "    Fixed Defect: An abnormality that is unlikely to change or be corrected."
      ],
      "metadata": {
        "id": "LqkkBfWJsmU_"
      }
    },
    {
      "cell_type": "markdown",
      "source": [
        "- **Lets Deal With Num , The Target Variable**\n",
        "   * `0 = no heart disease`\n",
        "   * `1 = mild heart disease`\n",
        "   * `2 = moderate heart disease `\n",
        "   * `3 = severe heart disease`\n",
        "   * `4 = critical heart disease `\n"
      ],
      "metadata": {
        "id": "2HjKpMYismU_"
      }
    },
    {
      "cell_type": "code",
      "source": [
        "df['num'].value_counts()"
      ],
      "metadata": {
        "id": "t2QndmH6smU_"
      },
      "outputs": [],
      "execution_count": null
    },
    {
      "cell_type": "code",
      "source": [
        "# Groupby num with sex\n",
        "df.groupby('num')['sex'].value_counts()\n",
        "# Plot to Visualize\n",
        "sns.countplot(df, x='num', hue='sex')"
      ],
      "metadata": {
        "id": "mHcBWN8psmVA"
      },
      "outputs": [],
      "execution_count": null
    },
    {
      "cell_type": "code",
      "source": [
        "# groupby num by age\n",
        "df.groupby('num')['age'].value_counts()\n",
        "# Plot to Visualize\n",
        "sns.histplot(df, x='age', hue='num')"
      ],
      "metadata": {
        "id": "vU0iSUC3smVA"
      },
      "outputs": [],
      "execution_count": null
    },
    {
      "cell_type": "code",
      "source": [
        "# Make Histplot using Plotly\n",
        "px.histogram(data_frame=df, x='age', color='num')"
      ],
      "metadata": {
        "id": "nl1KO-qWsmVA"
      },
      "outputs": [],
      "execution_count": null
    },
    {
      "cell_type": "markdown",
      "source": [
        "# <p style=\"background-color: #F65058FF;font-family:Algerian;font-size:150%;text-align:center;color:#28334AFF;border-radius:1000px 50px;\">Conclusions</p>\n",
        "\n",
        "**1.Age**\n",
        "1. The minimum age to have a heart disease starts from 28 years old.\n",
        "2. Most of the people get heart disease at the age of 53-54 years.\n",
        "3. Most of the males and females get are with heart disease at the age of 54-55 years.\n",
        "4. Male percentage in the data: 78.91%\n",
        "5. Female Percentage in the data: 21.09%\n",
        "6. Males are 274.23% more than females in the data.\n",
        "\n",
        "**2.Datset**\n",
        "1. We have highest number of people from Cleveland (304) and lowest from Switzerland (123).\n",
        "2. The highest number of females in this dataset are from Cleveland (97) and lowest from VA Long Beach (6).\n",
        "3. The highest number of males in this dataset are from Hungary (212) and lowest from Switzerland (113).\n",
        "\n",
        "**2.1 Observations :**\n",
        "   \n",
        "   1. The Mean Age according to the dataset is :\n",
        "   \n",
        "      Cleveland        54.351974\n",
        "      \n",
        "      Hungary          47.894198\n",
        "\n",
        "      Switzerland      55.317073\n",
        "\n",
        "      VA Long Beach    59.350000\n",
        "      \n",
        "   2. The Median Age according to the dataset is :\n",
        "      \n",
        "      Cleveland        55.5\n",
        "      \n",
        "      Hungary          49.0\n",
        "      \n",
        "      Switzerland      56.0\n",
        "      \n",
        "      VA Long Beach    60.0\n",
        "\n",
        "   3. The Mode Age according to the dataset is :\n",
        "      \n",
        "      Cleveland              58\n",
        "      \n",
        "      Hungary                54\n",
        "      \n",
        "      Switzerland            61\n",
        "      \n",
        "      VA Long Beach    [62, 63]\n",
        "      \n",
        " ---  \n",
        "\n",
        "**3.  Chest Pain Output :**\n",
        "    \n",
        "   0 = no heart disease\n",
        "   1 = mild heart disease\n",
        "   2 = moderate heart disease\n",
        "   3 = severe heart disease\n",
        "   4 = critical heart disease\n",
        "\n",
        "   1. A total of 104 individuals are identified as having neither chest pain nor heart disease.\n",
        "\n",
        "   2. Only 23 individuals are found to have no chest pain while experiencing critical heart disease.\n",
        "\n",
        "   3. A group of 83 individuals is observed to be free from chest pain while having severe heart disease.\n",
        "\n",
        "   4. In the dataset, 197 individuals are noted for having no chest pain and exhibiting mild heart disease.\n",
        "\n",
        "   5. Among the individuals, 89 have no chest pain while presenting with moderate heart disease.\n",
        "\n",
        "**3.1Results According to Group by cp and Num :**\n",
        "\n",
        "| __CP__ | __Num__ |__Value-Count__\n",
        "|     :---      |       :---      |       :---      |     \n",
        "| __asymptomatic__ | 1 |197\n",
        "| __atypical angina__ | 0 |150\n",
        "| __no-anginal__ | 0 |131\n",
        "| __typical angina__ | 0 |26\n",
        "|     :---      |       :---      |       :---      |     \n",
        "| __asymptomatic__ | 0 |104\n",
        "| __atypical angina__ | 1 |19\n",
        "| __no-anginal__ | 1 |37\n",
        "| __typical angina__ | 1 |12\n",
        "|     :---      |       :---      |       :---      |     \n",
        "| __asymptomatic__ | 2 |89\n",
        "| __atypical angina__ | 3 |3\n",
        "| __no-anginal__ | 3 |18\n",
        "| __typical angina__ | 3 |4\n",
        "|     :---      |       :---      |       :---      |     \n",
        "| __asymptomatic__ | 3 |83\n",
        "| __atypical angina__ | 2 |2\n",
        "| __no-anginal__ | 2 |14\n",
        "| __typical angina__ | 3 |3\n",
        "|     :---      |       :---      |       :---      |     \n",
        "| __asymptomatic__ | 4 |23\n",
        "| __no-anginal__ | 4 |4\n",
        "| __typical angina__ | 4 |1\n",
        "\n",
        "From Above out 0,1,2,3,4 Show Diseases Level adn Next Their Values\n",
        "\n",
        "---     \n",
        "\n",
        "**4.  Missing Values Imputation :**\n",
        "\n",
        "   So Here we impute missing Values by using Iterative Imputer  and Random Forest . In this Dataset some Columns Have Higher Missing Values Ratio , so we have to Used Advance methods to impute missing Values . We Define a FUnction for Iputing Missing Values , In Which We Passed the Columns Names and The FUnction Return a Dataset With no Missing Values .\n",
        "\n",
        "**4.1 Methods:**\n",
        "   1. Random Forest Classifier\n",
        "   2. Random Forest Regressor\n",
        "   3. Iterative Imputer\n",
        "   \n",
        "---\n",
        "\n",
        "**5.Outliers**\n",
        "\n",
        "   While Dealing with Outliers , from my Observations There is only One Outlier in the dataset which i removed . Other Values Have some Meaningfull Insight , so we Cannot remove them . Leave them in the Dataset .\n",
        "\n",
        "---\n",
        "\n",
        "**6. Thal Output**\n",
        "\n",
        "   - Normal: Within expected or healthy parameters.\n",
        "   - Reversible Defect: An abnormality that can potentially be corrected or improved.\n",
        "   - Fixed Defect: An abnormality that is unlikely to change or be corrected.\n",
        "  \n",
        "   1. Among the individuals, 110 males and 86 females are classified as normal.\n",
        "   2. A total of 42 males and 4 females exhibit a fixed defect.\n",
        "   3. In the dataset, 171 males and 21 females are identified with a reversible defect.\n",
        "      The higher ratio of males compared to females is attributed to the dataset's male predominance.\n",
        "   5. Both individuals with thalassemia and those with normal thalassemia experience chest pain.\n",
        "   6. Individuals with normal thalassemia often exhibit a higher ratio of being free from heart disease, although some may still experience     heart-related conditions.\n",
        "   7. Those with thalassemia generally have an increased likelihood of heart disease, yet some\n",
        "  individuals with thalassemia do not develop such health issues.\n",
        "\n",
        "---\n",
        "\n",
        "**7. Num**\n",
        "   1. Men exhibit a higher ratio of being disease-free, while females show a lower ratio in the dataset.\n",
        "\n",
        "   2. Conversely, based on the dataset, men are more affected by diseases compared to women.\n",
        "</h3>\n"
      ],
      "metadata": {
        "id": "wbLnFydksmVA"
      }
    },
    {
      "cell_type": "markdown",
      "source": [
        "# <p style=\"background-color: #F65058FF;font-family:Algerian;font-size:150%;text-align:center;color:#28334AFF;border-radius:1000px 50px;\">Handling Missing Values</p>\n",
        "\n",
        "**Why It is Important to Deal With Missing Values**\n",
        "Handling missing values is crucial in data analysis and modeling for several reasons:\n",
        "\n",
        "1. **Maintaining Data Integrity:** Missing values can lead to inaccuracies and distort the overall integrity of the dataset, affecting the quality of analysis and resulting in flawed conclusions.\n",
        "\n",
        "2. **Preventing Biased Results:** Ignoring missing values may lead to biased results, as the available data may not be representative of the entire population. This bias can impact the validity of statistical inferences and machine learning models.\n",
        "\n",
        "3. **Enhancing Model Performance:** Most machine learning algorithms cannot handle missing data. Imputing or addressing missing values ensures that the model is trained on a complete dataset, improving its performance and generalizability.\n",
        "\n",
        "4. **Preserving Statistical Power:** Missing values reduce the sample size, potentially diminishing the statistical power of analyses. Addressing missing data helps preserve the representativeness and reliability of the study.\n",
        "\n",
        "5. **Avoiding Misinterpretation:** Incomplete data can mislead analysts, leading to incorrect assumptions or interpretations. Addressing missing values ensures that insights drawn from the data are more accurate and trustworthy.\n",
        "\n",
        "6. **Supporting Decision-Making:** In business and research, decisions based on incomplete or inaccurate data can have significant consequences. Handling missing values ensures that decisions are informed by reliable and complete information.\n",
        "\n",
        "Overall, dealing with missing values is essential for maintaining the quality, accuracy, and reliability of data, which is fundamental to sound data analysis and modeling practices.\n",
        "\n",
        "---\n",
        "\n",
        "- Here i Define a Function for Imputing Null Value , In Which I Just Passed the Column name the Function Run and impute the Null Values in it\n",
        "- The Mthods used for Imputation are Random Forest Classifier , Random Forest Regression and Iterative Imputer\n",
        "</h3>\n",
        "\n",
        "\n"
      ],
      "metadata": {
        "id": "G_y_RRHssmVA"
      }
    },
    {
      "cell_type": "code",
      "source": [
        "# remove warning\n",
        "import warnings\n",
        "warnings.filterwarnings('ignore')\n",
        "\n",
        "# impute missing values using our functions\n",
        "for col in missing_data_cols:\n",
        "    print(\"Missing Values\", col, \":\", str(round((df[col].isnull().sum() / len(df)) * 100, 2))+\"%\")\n",
        "    if col in categorical_cols:\n",
        "        df[col] = impute_categorical_missing_data(col)\n",
        "    elif col in numeric_cols:\n",
        "        df[col] = impute_continuous_missing_data(col)\n",
        "    else:\n",
        "        pass"
      ],
      "metadata": {
        "id": "qx49xo21smVB"
      },
      "outputs": [],
      "execution_count": null
    },
    {
      "cell_type": "code",
      "source": [
        "# Again CHecking Missing Values\n",
        "df.isnull().sum()"
      ],
      "metadata": {
        "id": "CifZBLJismVB"
      },
      "outputs": [],
      "execution_count": null
    },
    {
      "cell_type": "markdown",
      "source": [
        "- Here we are Done With Imputing Missing Values , By using Advance Methods Like Random Forest and Iterative Imputer . Which Are More Accurate then using Mean , Median or Mode  We Define a FUnction for Iputing Missing Values , In Which We Passed the Columns Names and The FUnction Return a Dataset With no Missing Values .\n",
        "-\n",
        "      MEthods :\n",
        "      1. Random Forest Classifier\n",
        "      2. Random Forest Regressor\n",
        "      3. Iterative Imputer"
      ],
      "metadata": {
        "id": "LqyruTxYsmVB"
      }
    },
    {
      "cell_type": "markdown",
      "source": [
        "# <p style=\"background-color: #F65058FF;font-family:Algerian;font-size:150%;text-align:center;color:#28334AFF;border-radius:1000px 50px;\">Handling Outliers</p>\n",
        "<div style=\"border-radius:10px; padding: 15px; background-color: #F65058FF; font-size:120%; text-align:left\">\n",
        "\n",
        "<h3 style=\"color:Black;font-family:newtimeroman;font-size:100%;text-align:center;\">\n",
        "\n",
        "Outliers, statistical anomalies lying outside the norm, wield significant influence on data analysis. These exceptional data points, while occasionally dismissed as errors, often unveil critical insights. Identifying outliers is pivotal for robust analysis, ensuring data integrity and model accuracy. Outliers can illuminate hidden patterns, detect anomalies, and refine predictive models. Their nuanced exploration adds depth to statistical understanding, fostering more informed decision-making. Thus, treating outliers with thoughtful consideration enhances the resilience and reliability of data-driven insights, providing a comprehensive and nuanced perspective on the underlying patterns within a dataset.\n",
        "</h>"
      ],
      "metadata": {
        "id": "ygDf710TsmVB"
      }
    },
    {
      "cell_type": "code",
      "source": [
        "# create box plots for all numeric columns using for loop and subplot\n",
        "plt.figure(figsize=(20, 20))\n",
        "\n",
        "colors = ['red', 'green', 'blue', 'orange', 'purple']\n",
        "\n",
        "for i, col in enumerate(numeric_cols):\n",
        "    plt.subplot(3, 2, i+1)\n",
        "    sns.boxplot(x=df[col], color=colors[i])\n",
        "    plt.title(col)\n",
        "plt.show()"
      ],
      "metadata": {
        "id": "XUy6FqeFsmVB"
      },
      "outputs": [],
      "execution_count": null
    },
    {
      "cell_type": "code",
      "source": [
        "# print the row from df where trestbps value is 0\n",
        "df[df['trestbps'] == 0]\n",
        "# remove this row from data\n",
        "df = df[df['trestbps'] != 0]"
      ],
      "metadata": {
        "id": "62KPwRs0smVB"
      },
      "outputs": [],
      "execution_count": null
    },
    {
      "cell_type": "markdown",
      "source": [
        "- While Dealing with Outliers , from my Observations There is only One Outlier in the dataset which i removed . Other Values Have some Meaningfull Insight , so we Cannot remove them . Leave them in the Dataset .\n"
      ],
      "metadata": {
        "id": "-59vpGTosmVB"
      }
    },
    {
      "cell_type": "markdown",
      "source": [
        "# <p style=\"background-color: #F65058FF;font-family:Algerian;font-size:150%;text-align:center;color:#28334AFF;border-radius:1000px 50px;\">Machine Learning ( Model Building )</p>"
      ],
      "metadata": {
        "id": "_vlpoCx4smVB"
      }
    },
    {
      "cell_type": "markdown",
      "source": [
        "\n",
        " The Target Column is `num` which is the predicted attribute. We will use this column to predict the heart disease.\n",
        " The unique values in this column are: [0, 1].\n",
        "\n",
        "0 = no heart disease\n",
        "1 = heart disease\n",
        "\n",
        "The models that you will use to predict the heart disease. These models should be classifiers for multi-class classification.\n",
        "\n",
        "1. Random Forest\n",
        "2. XGB Classifier.</h3>\n"
      ],
      "metadata": {
        "id": "nZNeB9jlsmVB"
      }
    },
    {
      "cell_type": "markdown",
      "source": [
        "- Import Libraries"
      ],
      "metadata": {
        "id": "L_8IBLYvsmVB"
      }
    },
    {
      "cell_type": "code",
      "source": [
        "# Import Libraires\n",
        "import pandas as pd\n",
        "import numpy as np\n",
        "import matplotlib.pyplot as plt\n",
        "import seaborn as sns\n",
        "# Train test Split\n",
        "from sklearn.model_selection import train_test_split\n",
        "# Models\n",
        "from sklearn.naive_bayes import GaussianNB , BernoulliNB , MultinomialNB\n",
        "from sklearn.tree import DecisionTreeClassifier , DecisionTreeRegressor\n",
        "from sklearn.ensemble import RandomForestClassifier , AdaBoostClassifier ,RandomForestRegressor , AdaBoostRegressor\n",
        "from xgboost import XGBClassifier , XGBRegressor\n",
        "from sklearn.linear_model import LinearRegression ,LogisticRegression\n",
        "from sklearn.neighbors import KNeighborsRegressor , KNeighborsClassifier\n",
        "from sklearn.ensemble import GradientBoostingRegressor , GradientBoostingClassifier\n",
        "from sklearn.svm import SVC , SVR\n",
        "from xgboost import XGBClassifier , XGBRegressor\n",
        "# Import Naive Bayes\n",
        "#metrics\n",
        "from sklearn.metrics import mean_squared_error , mean_absolute_error , r2_score , classification_report , accuracy_score , f1_score , precision_score\n",
        "#import grid search cv for cross validation\n",
        "from sklearn.model_selection import GridSearchCV , RandomizedSearchCV\n",
        "# import preprocessors\n",
        "from sklearn.preprocessing import StandardScaler, MinMaxScaler\n",
        "from sklearn.preprocessing import LabelEncoder , OneHotEncoder\n",
        "from sklearn.preprocessing import QuantileTransformer , PowerTransformer\n",
        "from sklearn.compose import ColumnTransformer\n",
        "from sklearn.pipeline import Pipeline\n",
        "# Remove Warning\n",
        "import warnings\n",
        "warnings.filterwarnings('ignore')\n",
        "# Saving Model\n",
        "import pickle"
      ],
      "metadata": {
        "execution": {
          "iopub.status.busy": "2024-01-18T18:59:55.997362Z",
          "iopub.execute_input": "2024-01-18T18:59:55.997777Z",
          "iopub.status.idle": "2024-01-18T18:59:56.019983Z",
          "shell.execute_reply.started": "2024-01-18T18:59:55.997748Z",
          "shell.execute_reply": "2024-01-18T18:59:56.019037Z"
        },
        "trusted": true,
        "id": "qHwzMH38smVB"
      },
      "outputs": [],
      "execution_count": null
    },
    {
      "cell_type": "markdown",
      "source": [
        "# <p style=\"background-color: #F65058FF;font-family:Algerian;font-size:150%;text-align:center;color:#28334AFF;border-radius:1000px 50px;\">Process</p>\n",
        "\n",
        "- Renaming ColumnNames and Droping Some Irrelevant Column\n",
        "- Here we Drop some irrelevant columns Like : `id ,restecg` and Uses those columns Which are Important .\n",
        "- in Thal and cp we have space which i think will create problem later on so we also remove those spaces .\n",
        "- in target Column 0 : 'No disease' and 1 : 'Effected Disease' . Here in target Column , i do some changes , before there are 5 different categories . 1,2,3,4, Represent Disease , soo i make a new column  in which , there are only two categories one represents Disease and one represents no disease .\n",
        "data_1['target'] = ((data['num'] > 0)*1).copy()\n",
        "\n",
        "[ (data['sex'] == 'Male')*1 ]: The boolean values (True/False) are then multiplied by 1. In Python, True is equivalent to 1 and False is equivalent to 0 when used in arithmetic operations. This operation effectively converts the boolean values into numerical values (1 for 'Male' and 0 for 'Female').</h3>\n"
      ],
      "metadata": {
        "id": "gFwm0jvdsmVC"
      }
    },
    {
      "cell_type": "code",
      "source": [
        "# Load Again The Clean Data\n",
        "data = df.copy()\n",
        "data.head()"
      ],
      "metadata": {
        "execution": {
          "iopub.status.busy": "2024-01-18T19:00:06.417343Z",
          "iopub.execute_input": "2024-01-18T19:00:06.419641Z",
          "iopub.status.idle": "2024-01-18T19:00:06.452547Z",
          "shell.execute_reply.started": "2024-01-18T19:00:06.419579Z",
          "shell.execute_reply": "2024-01-18T19:00:06.451287Z"
        },
        "trusted": true,
        "id": "U3EJnMaQsmVC"
      },
      "outputs": [],
      "execution_count": null
    },
    {
      "cell_type": "code",
      "source": [
        "# In some of the features, there is space will will create problem later on.\n",
        "# So we rename those attributes to handle problems in the future.\n",
        "data['thal'].replace({'fixed defect':'fixed_defect' , 'reversable defect': 'reversable_defect' }, inplace =True)\n",
        "data['cp'].replace({'typical angina':'typical_angina', 'atypical angina': 'atypical_angina' }, inplace =True)\n",
        "data['restecg'].replace({'normal': 'normal' , 'st-t abnormality': 'ST-T_wave_abnormality' , 'lv hypertrophy': 'left_ventricular_hypertrophy' }, inplace =True)\n",
        "\n",
        "# Genrating New Dataset with Less Columns Which Are Necessary .\n",
        "data_1 = data[['age','sex','cp','dataset', 'trestbps', 'chol', 'fbs','restecg' , 'thalch', 'exang', 'oldpeak', 'slope', 'ca', 'thal']].copy()\n",
        "# Some Changes in Target Variable | Only Two Categories (0,1) . 0 for No-Disease , 1 for Disease\n",
        "data_1['target'] = ((data['num'] > 0)*1).copy()\n",
        "# Encoding Sex\n",
        "data_1['sex'] = (data['sex'] == 'Male')*1\n",
        "# Encoding Fbs and exang\n",
        "data_1['fbs'] = (data['fbs'])*1\n",
        "data_1['exang'] = (data['exang'])*1\n",
        "# Renaming COlumns Names.\n",
        "data_1.columns = ['age', 'sex', 'chest_pain_type','country' ,'resting_blood_pressure',\n",
        "              'cholesterol', 'fasting_blood_sugar','Restecg',\n",
        "              'max_heart_rate_achieved', 'exercise_induced_angina',\n",
        "              'st_depression', 'st_slope_type', 'num_major_vessels',\n",
        "              'thalassemia_type', 'target']\n",
        "# Load Data Sample\n",
        "data_1.head()"
      ],
      "metadata": {
        "execution": {
          "iopub.status.busy": "2024-01-18T19:00:37.475467Z",
          "iopub.execute_input": "2024-01-18T19:00:37.47653Z",
          "iopub.status.idle": "2024-01-18T19:00:37.511498Z",
          "shell.execute_reply.started": "2024-01-18T19:00:37.47649Z",
          "shell.execute_reply": "2024-01-18T19:00:37.510407Z"
        },
        "trusted": true,
        "id": "IntiBdtlsmVC"
      },
      "outputs": [],
      "execution_count": null
    },
    {
      "cell_type": "markdown",
      "source": [
        "# <p style=\"background-color: #F65058FF;font-family:Algerian;font-size:150%;text-align:center;color:#28334AFF;border-radius:1000px 50px;\">Random Forest</p>"
      ],
      "metadata": {
        "id": "FljTNes-smVC"
      }
    },
    {
      "cell_type": "markdown",
      "source": [
        "Random Forest is an ensemble learning technique used for both classification and regression tasks. It builds multiple decision trees during training and merges their predictions to improve accuracy and reduce overfitting.\n",
        "\n",
        "1. High Accuracy\n",
        "2. Robust to Overfitting\n",
        "3. Handles Missing Values\n",
        "\n",
        "Random Forest is a versatile and powerful algorithm, especially effective in scenarios with high-dimensional data and complex relationships. It excels in situations where high accuracy is crucial, and its ability to handle missing values and resist overfitting makes it a popular choice in machine learning applications.</h3>\n"
      ],
      "metadata": {
        "id": "r2t2G9qQsmVC"
      }
    },
    {
      "cell_type": "code",
      "source": [
        "train_random_forest(data_1, 'target')"
      ],
      "metadata": {
        "id": "kCUvnfqWsmVC"
      },
      "outputs": [],
      "execution_count": null
    },
    {
      "cell_type": "markdown",
      "source": [
        "# <p style=\"background-color: #F65058FF;font-family:Algerian;font-size:150%;text-align:center;color:#28334AFF;border-radius:1000px 50px;\">XGBoost</p>\n",
        "\n",
        "1. Definition:\n",
        "\n",
        "   XG Boost is a scalable and efficient machine learning algorithm that belongs to the ensemble learning category. Specifically, it's a gradient boosting framework designed for speed and performance, utilizing decision trees as base learners.\n",
        "\n",
        "2. Key Characteristics:\n",
        "\n",
        "    1. Gradient Boosting:\n",
        "       - Builds an ensemble of weak learners (usually decision trees) sequentially, each correcting the errors of its predecessor.\n",
        "\n",
        "    2. Regularization:\n",
        "       - Implements regularization techniques to prevent overfitting.\n",
        "\n",
        "    3. Parallel Processing:\n",
        "       - Allows parallelization of tree construction, making it computationally efficient.\n",
        "\n",
        "3. Handling Missing Values:\n",
        "   - Can handle missing values in the dataset.\n",
        "\n",
        "4. Advantages:\n",
        "\n",
        "    1. High Performance:\n",
        "       - Achieves high accuracy and efficiency, often outperforming other algorithms.\n",
        "\n",
        "    2. Feature Importance:\n",
        "       - Provides insights into feature importance, aiding interpretability.\n",
        "\n",
        "    3. Flexibility:\n",
        "       - Can handle various types of data and problems, both regression and classification.![image.png]</h3>\n",
        "\n"
      ],
      "metadata": {
        "id": "W3yxuKQWsmVC"
      }
    },
    {
      "cell_type": "code",
      "source": [
        "train_xgb_classifier(data_1,'target')"
      ],
      "metadata": {
        "id": "vTONcrnosmVC"
      },
      "outputs": [],
      "execution_count": null
    },
    {
      "cell_type": "markdown",
      "source": [
        "# <p style=\"background-color: #F65058FF;font-family:Algerian;font-size:150%;text-align:center;color:#28334AFF;border-radius:1000px 50px;\">Final Conclusion</p>"
      ],
      "metadata": {
        "id": "zoy85NyhsmVC"
      }
    },
    {
      "cell_type": "markdown",
      "source": [
        "<h3 style=\"color:Black;font-family:newtimeroman;font-size:100%;\">\n",
        "\n",
        "<div style=\"border-radius:10px; padding: 15px; background-color: #F65058FF; font-size:120%; text-align:left\">\n",
        "\n",
        "In this study, we trained two powerful machine learning models, namely Random Forest and XGB Classifier, to address our classification task. After an extensive hyperparameter tuning process, we achieved optimal configurations for each model.\n",
        "\n",
        "The Random Forest model demonstrated robust performance with a set of hyperparameters, including a maximum depth of 10, minimum samples per leaf set to 4, minimum samples for split set to 2, and 100 estimators. This resulted in an impressive accuracy of 84% on the test set.\n",
        "\n",
        "On the other hand, the XGB Classifier exhibited its strengths with a unique set of hyperparameters, such as a colsample by tree of 0.8, gamma value of 2, learning rate of 0.1, maximum depth of 3, 50 estimators, and a subsample ratio of 1.0. This configuration yielded a slightly higher accuracy of 86% on the test set.\n",
        "\n",
        "Both models demonstrated their effectiveness in handling the classification task, each excelling in different aspects. The Random Forest model showcased high accuracy and robustness to overfitting, making it a reliable choice. Meanwhile, the XGB Classifier demonstrated its capabilities in capturing complex relationships within the data, resulting in a slightly higher accuracy.\n",
        "\n",
        "Ultimately, the choice between these models depends on specific requirements and preferences. The Random Forest model is suitable for scenarios where accuracy and resistance to overfitting are paramount, while the XGB Classifier proves beneficial when capturing intricate patterns is crucial. This comparative analysis provides valuable insights into the strengths and trade-offs of each model, empowering informed decision-making for future applications.\n",
        "\n",
        "</h3>\n",
        "</div>\n"
      ],
      "metadata": {
        "id": "mtDijC2tsmVC"
      }
    }
  ]
}
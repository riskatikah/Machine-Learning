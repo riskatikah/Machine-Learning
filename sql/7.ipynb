{
 "cells": [
  {
   "cell_type": "code",
   "execution_count": 9,
   "id": "3f1ac303",
   "metadata": {},
   "outputs": [],
   "source": [
    "import pandas as pd\n",
    "from mlxtend.frequent_patterns import apriori, association_rules\n",
    "from mlxtend.preprocessing import TransactionEncoder"
   ]
  },
  {
   "cell_type": "code",
   "execution_count": 15,
   "id": "9ce61041",
   "metadata": {},
   "outputs": [
    {
     "data": {
      "application/vnd.microsoft.datawrangler.viewer.v0+json": {
       "columns": [
        {
         "name": "index",
         "rawType": "int64",
         "type": "integer"
        },
        {
         "name": "film_id",
         "rawType": "int64",
         "type": "integer"
        },
        {
         "name": "title",
         "rawType": "object",
         "type": "string"
        },
        {
         "name": "actor_id",
         "rawType": "int64",
         "type": "integer"
        },
        {
         "name": "actor_name",
         "rawType": "object",
         "type": "string"
        }
       ],
       "conversionMethod": "pd.DataFrame",
       "ref": "fbb68e41-3436-4fdb-a89a-97351bf26835",
       "rows": [
        [
         "0",
         "735",
         "Robbers Joon",
         "142",
         "Jada Ryder"
        ],
        [
         "1",
         "738",
         "Rocketeer Mother",
         "119",
         "Warren Jackman"
        ],
        [
         "2",
         "31",
         "Apache Divine",
         "15",
         "Cuba Olivier"
        ],
        [
         "3",
         "489",
         "Juggler Hardly",
         "33",
         "Milla Peck"
        ],
        [
         "4",
         "1000",
         "Zorro Ark",
         "178",
         "Lisa Monroe"
        ],
        [
         "5",
         "753",
         "Rush Goodfellas",
         "144",
         "Angela Witherspoon"
        ],
        [
         "6",
         "369",
         "Goodfellas Salute",
         "22",
         "Elvis Marx"
        ],
        [
         "7",
         "767",
         "Scalawag Duck",
         "61",
         "Christian Neeson"
        ],
        [
         "8",
         "738",
         "Rocketeer Mother",
         "35",
         "Judy Dean"
        ],
        [
         "9",
         "331",
         "Forward Temple",
         "72",
         "Sean Williams"
        ],
        [
         "10",
         "369",
         "Goodfellas Salute",
         "2",
         "Nick Wahlberg"
        ],
        [
         "11",
         "767",
         "Scalawag Duck",
         "45",
         "Reese Kilmer"
        ],
        [
         "12",
         "418",
         "Hobbit Alien",
         "119",
         "Warren Jackman"
        ],
        [
         "13",
         "973",
         "Wife Turn",
         "157",
         "Greta Malden"
        ],
        [
         "14",
         "753",
         "Rush Goodfellas",
         "109",
         "Sylvester Dern"
        ],
        [
         "15",
         "730",
         "Ridgemont Submarine",
         "199",
         "Julia Fawcett"
        ],
        [
         "16",
         "735",
         "Robbers Joon",
         "103",
         "Matthew Leigh"
        ],
        [
         "17",
         "973",
         "Wife Turn",
         "28",
         "Woody Hoffman"
        ],
        [
         "18",
         "767",
         "Scalawag Duck",
         "78",
         "Groucho Sinatra"
        ],
        [
         "19",
         "767",
         "Scalawag Duck",
         "160",
         "Chris Depp"
        ],
        [
         "20",
         "489",
         "Juggler Hardly",
         "179",
         "Ed Guiness"
        ],
        [
         "21",
         "891",
         "Timberland Sky",
         "57",
         "Jude Cruise"
        ],
        [
         "22",
         "489",
         "Juggler Hardly",
         "139",
         "Ewan Gooding"
        ],
        [
         "23",
         "331",
         "Forward Temple",
         "86",
         "Greg Chaplin"
        ],
        [
         "24",
         "891",
         "Timberland Sky",
         "163",
         "Christopher West"
        ],
        [
         "25",
         "489",
         "Juggler Hardly",
         "120",
         "Penelope Monroe"
        ],
        [
         "26",
         "891",
         "Timberland Sky",
         "51",
         "Gary Phoenix"
        ],
        [
         "27",
         "382",
         "Grit Clockwork",
         "151",
         "Geoffrey Heston"
        ],
        [
         "28",
         "973",
         "Wife Turn",
         "107",
         "Gina Degeneres"
        ],
        [
         "29",
         "382",
         "Grit Clockwork",
         "127",
         "Kevin Garland"
        ],
        [
         "30",
         "369",
         "Goodfellas Salute",
         "5",
         "Johnny Lollobrigida"
        ],
        [
         "31",
         "489",
         "Juggler Hardly",
         "54",
         "Penelope Pinkett"
        ],
        [
         "32",
         "418",
         "Hobbit Alien",
         "22",
         "Elvis Marx"
        ],
        [
         "33",
         "369",
         "Goodfellas Salute",
         "107",
         "Gina Degeneres"
        ],
        [
         "34",
         "730",
         "Ridgemont Submarine",
         "140",
         "Whoopi Hurt"
        ],
        [
         "35",
         "1000",
         "Zorro Ark",
         "155",
         "Ian Tandy"
        ],
        [
         "36",
         "31",
         "Apache Divine",
         "60",
         "Henry Berry"
        ],
        [
         "37",
         "369",
         "Goodfellas Salute",
         "197",
         "Reese West"
        ],
        [
         "38",
         "31",
         "Apache Divine",
         "49",
         "Anne Cronyn"
        ],
        [
         "39",
         "621",
         "Network Peak",
         "50",
         "Natalie Hopkins"
        ],
        [
         "40",
         "735",
         "Robbers Joon",
         "118",
         "Cuba Allen"
        ],
        [
         "41",
         "973",
         "Wife Turn",
         "47",
         "Julia Barrymore"
        ],
        [
         "42",
         "735",
         "Robbers Joon",
         "33",
         "Milla Peck"
        ],
        [
         "43",
         "973",
         "Wife Turn",
         "111",
         "Cameron Zellweger"
        ],
        [
         "44",
         "738",
         "Rocketeer Mother",
         "117",
         "Renee Tracy"
        ],
        [
         "45",
         "103",
         "Bucket Brotherhood",
         "89",
         "Charlize Dench"
        ],
        [
         "46",
         "753",
         "Rush Goodfellas",
         "173",
         "Alan Dreyfuss"
        ],
        [
         "47",
         "621",
         "Network Peak",
         "93",
         "Ellen Presley"
        ],
        [
         "48",
         "103",
         "Bucket Brotherhood",
         "51",
         "Gary Phoenix"
        ],
        [
         "49",
         "735",
         "Robbers Joon",
         "65",
         "Angela Hudson"
        ]
       ],
       "shape": {
        "columns": 4,
        "rows": 84
       }
      },
      "text/html": [
       "<div>\n",
       "<style scoped>\n",
       "    .dataframe tbody tr th:only-of-type {\n",
       "        vertical-align: middle;\n",
       "    }\n",
       "\n",
       "    .dataframe tbody tr th {\n",
       "        vertical-align: top;\n",
       "    }\n",
       "\n",
       "    .dataframe thead th {\n",
       "        text-align: right;\n",
       "    }\n",
       "</style>\n",
       "<table border=\"1\" class=\"dataframe\">\n",
       "  <thead>\n",
       "    <tr style=\"text-align: right;\">\n",
       "      <th></th>\n",
       "      <th>film_id</th>\n",
       "      <th>title</th>\n",
       "      <th>actor_id</th>\n",
       "      <th>actor_name</th>\n",
       "    </tr>\n",
       "  </thead>\n",
       "  <tbody>\n",
       "    <tr>\n",
       "      <th>0</th>\n",
       "      <td>735</td>\n",
       "      <td>Robbers Joon</td>\n",
       "      <td>142</td>\n",
       "      <td>Jada Ryder</td>\n",
       "    </tr>\n",
       "    <tr>\n",
       "      <th>1</th>\n",
       "      <td>738</td>\n",
       "      <td>Rocketeer Mother</td>\n",
       "      <td>119</td>\n",
       "      <td>Warren Jackman</td>\n",
       "    </tr>\n",
       "    <tr>\n",
       "      <th>2</th>\n",
       "      <td>31</td>\n",
       "      <td>Apache Divine</td>\n",
       "      <td>15</td>\n",
       "      <td>Cuba Olivier</td>\n",
       "    </tr>\n",
       "    <tr>\n",
       "      <th>3</th>\n",
       "      <td>489</td>\n",
       "      <td>Juggler Hardly</td>\n",
       "      <td>33</td>\n",
       "      <td>Milla Peck</td>\n",
       "    </tr>\n",
       "    <tr>\n",
       "      <th>4</th>\n",
       "      <td>1000</td>\n",
       "      <td>Zorro Ark</td>\n",
       "      <td>178</td>\n",
       "      <td>Lisa Monroe</td>\n",
       "    </tr>\n",
       "    <tr>\n",
       "      <th>...</th>\n",
       "      <td>...</td>\n",
       "      <td>...</td>\n",
       "      <td>...</td>\n",
       "      <td>...</td>\n",
       "    </tr>\n",
       "    <tr>\n",
       "      <th>79</th>\n",
       "      <td>103</td>\n",
       "      <td>Bucket Brotherhood</td>\n",
       "      <td>92</td>\n",
       "      <td>Kirsten Akroyd</td>\n",
       "    </tr>\n",
       "    <tr>\n",
       "      <th>80</th>\n",
       "      <td>369</td>\n",
       "      <td>Goodfellas Salute</td>\n",
       "      <td>110</td>\n",
       "      <td>Susan Davis</td>\n",
       "    </tr>\n",
       "    <tr>\n",
       "      <th>81</th>\n",
       "      <td>489</td>\n",
       "      <td>Juggler Hardly</td>\n",
       "      <td>122</td>\n",
       "      <td>Salma Nolte</td>\n",
       "    </tr>\n",
       "    <tr>\n",
       "      <th>82</th>\n",
       "      <td>730</td>\n",
       "      <td>Ridgemont Submarine</td>\n",
       "      <td>5</td>\n",
       "      <td>Johnny Lollobrigida</td>\n",
       "    </tr>\n",
       "    <tr>\n",
       "      <th>83</th>\n",
       "      <td>1000</td>\n",
       "      <td>Zorro Ark</td>\n",
       "      <td>166</td>\n",
       "      <td>Nick Degeneres</td>\n",
       "    </tr>\n",
       "  </tbody>\n",
       "</table>\n",
       "<p>84 rows × 4 columns</p>\n",
       "</div>"
      ],
      "text/plain": [
       "    film_id                title  actor_id           actor_name\n",
       "0       735         Robbers Joon       142           Jada Ryder\n",
       "1       738     Rocketeer Mother       119       Warren Jackman\n",
       "2        31        Apache Divine        15         Cuba Olivier\n",
       "3       489       Juggler Hardly        33           Milla Peck\n",
       "4      1000            Zorro Ark       178          Lisa Monroe\n",
       "..      ...                  ...       ...                  ...\n",
       "79      103   Bucket Brotherhood        92       Kirsten Akroyd\n",
       "80      369    Goodfellas Salute       110          Susan Davis\n",
       "81      489       Juggler Hardly       122          Salma Nolte\n",
       "82      730  Ridgemont Submarine         5  Johnny Lollobrigida\n",
       "83     1000            Zorro Ark       166       Nick Degeneres\n",
       "\n",
       "[84 rows x 4 columns]"
      ]
     },
     "execution_count": 15,
     "metadata": {},
     "output_type": "execute_result"
    }
   ],
   "source": [
    "df = pd.read_csv('film_actor_basket.csv')\n",
    "df"
   ]
  },
  {
   "cell_type": "markdown",
   "id": "ce74e3f7",
   "metadata": {},
   "source": [
    "SELECT DISTINCT\n",
    "    f.film_id,\n",
    "    f.title,\n",
    "    a.actor_id,\n",
    "    a.first_name || ' ' || a.last_name AS actor_name\n",
    "FROM film f\n",
    "JOIN film_actor fa ON f.film_id = fa.film_id\n",
    "JOIN actor a ON fa.actor_id = a.actor_id\n",
    "JOIN (\n",
    "    SELECT i.film_id\n",
    "    FROM rental r\n",
    "    JOIN inventory i ON r.inventory_id = i.inventory_id\n",
    "    GROUP BY i.film_id\n",
    "    HAVING COUNT(*) > 30\n",
    ") popular_films ON f.film_id = popular_films.film_id;\n"
   ]
  },
  {
   "cell_type": "code",
   "execution_count": 11,
   "id": "c2ab1b71",
   "metadata": {},
   "outputs": [],
   "source": [
    "transactions = df.groupby('film_id')['actor_name'].apply(list).tolist()"
   ]
  },
  {
   "cell_type": "code",
   "execution_count": 12,
   "id": "0ac172a1",
   "metadata": {},
   "outputs": [],
   "source": [
    "te = TransactionEncoder()\n",
    "te_ary = te.fit_transform(transactions)\n",
    "df_te = pd.DataFrame(te_ary, columns=te.columns_)"
   ]
  },
  {
   "cell_type": "code",
   "execution_count": 13,
   "id": "00e38c6f",
   "metadata": {},
   "outputs": [],
   "source": [
    "frequent_itemsets = apriori(df_te, min_support=0.05, use_colnames=True)\n",
    "rules = association_rules(frequent_itemsets, metric=\"lift\", min_threshold=1.0)"
   ]
  },
  {
   "cell_type": "code",
   "execution_count": null,
   "id": "744fbb2d",
   "metadata": {},
   "outputs": [
    {
     "name": "stdout",
     "output_type": "stream",
     "text": [
      "            antecedents           consequents  support  confidence  lift\n",
      "0  (Angela Witherspoon)       (Alan Dreyfuss)   0.0625         1.0  16.0\n",
      "1       (Alan Dreyfuss)  (Angela Witherspoon)   0.0625         1.0  16.0\n",
      "2       (Alan Dreyfuss)       (Kirk Jovovich)   0.0625         1.0   8.0\n",
      "3       (Kirk Jovovich)       (Alan Dreyfuss)   0.0625         0.5   8.0\n",
      "4       (Alan Dreyfuss)         (Mae Hoffman)   0.0625         1.0  16.0\n"
     ]
    }
   ],
   "source": [
    "print(rules[['antecedents', 'consequents', 'support', 'confidence', 'lift']].head(5))"
   ]
  }
 ],
 "metadata": {
  "kernelspec": {
   "display_name": "tf_env",
   "language": "python",
   "name": "python3"
  },
  "language_info": {
   "codemirror_mode": {
    "name": "ipython",
    "version": 3
   },
   "file_extension": ".py",
   "mimetype": "text/x-python",
   "name": "python",
   "nbconvert_exporter": "python",
   "pygments_lexer": "ipython3",
   "version": "3.10.16"
  }
 },
 "nbformat": 4,
 "nbformat_minor": 5
}

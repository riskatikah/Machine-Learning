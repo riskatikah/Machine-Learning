{
 "cells": [
  {
   "cell_type": "code",
   "execution_count": 1,
   "id": "bf65eafe",
   "metadata": {},
   "outputs": [],
   "source": [
    "import psycopg2\n",
    "import pandas as pd\n",
    "\n",
    "myCon = psycopg2.connect(\n",
    "    dbname='ecommerce_db',\n",
    "    user='postgres',\n",
    "    password='riska06',\n",
    "    host='localhost',\n",
    ")\n"
   ]
  },
  {
   "cell_type": "code",
   "execution_count": 2,
   "id": "5a2b96b1",
   "metadata": {},
   "outputs": [
    {
     "name": "stdout",
     "output_type": "stream",
     "text": [
      "(1, 25, Decimal('500.50'), 5)\n",
      "(2, 30, Decimal('1500.75'), 15)\n",
      "(3, 22, Decimal('300.10'), 3)\n",
      "(4, 35, Decimal('1200.00'), 12)\n",
      "(5, 28, Decimal('800.60'), 8)\n"
     ]
    }
   ],
   "source": [
    "cur = myCon.cursor()\n",
    "cur.execute(\"SELECT * FROM customers;\")\n",
    "rows = cur.fetchall()\n",
    "\n",
    "for d in rows:\n",
    "    print(d)\n",
    "    \n",
    "cur.close()"
   ]
  },
  {
   "cell_type": "code",
   "execution_count": 3,
   "id": "1b75d167",
   "metadata": {},
   "outputs": [],
   "source": [
    "query = \"\"\"\n",
    "\n",
    "SELECT \n",
    "    t.customer_id, \n",
    "    t.transactions_date, \n",
    "    t.product_category, \n",
    "    t.amount, \n",
    "    c.age  -- Include only age as a customer attribute\n",
    "FROM \n",
    "    transactions t\n",
    "JOIN \n",
    "    customers c ON t.customer_id = c.customer_id\n",
    "ORDER BY \n",
    "    t.customer_id, t.transactions_date;\n",
    "\n",
    "\"\"\"\n"
   ]
  },
  {
   "cell_type": "code",
   "execution_count": 4,
   "id": "384645fb",
   "metadata": {},
   "outputs": [
    {
     "name": "stdout",
     "output_type": "stream",
     "text": [
      "   customer_id transactions_date product_category  amount  age\n",
      "0            1        2023-01-10      Electronics   150.0   25\n",
      "1            1        2023-01-15          Fashion    80.0   25\n",
      "2            2        2023-01-12            Books    20.0   30\n",
      "3            2        2023-01-18      Electronics   200.0   30\n",
      "4            3        2023-01-14            Books    15.0   22\n"
     ]
    },
    {
     "name": "stderr",
     "output_type": "stream",
     "text": [
      "C:\\Users\\Asus\\AppData\\Local\\Temp\\ipykernel_7956\\3710778092.py:1: UserWarning: pandas only supports SQLAlchemy connectable (engine/connection) or database string URI or sqlite3 DBAPI2 connection. Other DBAPI2 objects are not tested. Please consider using SQLAlchemy.\n",
      "  df = pd.read_sql(query, myCon)\n"
     ]
    }
   ],
   "source": [
    "df = pd.read_sql(query, myCon)\n",
    "\n",
    "myCon.close()\n",
    "\n",
    "print(df.head())"
   ]
  },
  {
   "cell_type": "code",
   "execution_count": 5,
   "id": "d66420ab",
   "metadata": {},
   "outputs": [],
   "source": [
    "# Pastikan transaction_date dalam format datetime\n",
    "df['transactions_date'] = pd.to_datetime(df['transactions_date'])\n",
    "\n",
    "# RECENCY: Berapa hari sejak transaksi terakhir\n",
    "recency_df = df.groupby('customer_id')['transactions_date'].max()\n",
    "recency_df = pd.DataFrame({'recency': (df['transactions_date'].max() - recency_df).dt.days})\n",
    "\n",
    "# FREQUENCY: Berapa kali transaksi\n",
    "frequency_df = df.groupby('customer_id')['transactions_date'].count()\n",
    "frequency_df = pd.DataFrame({'frequency': frequency_df})\n",
    "\n",
    "# MONETARY: Total uang yang dibelanjakan\n",
    "monetary_df = df.groupby('customer_id')['amount'].sum()\n",
    "monetary_df = pd.DataFrame({'monetary': monetary_df})"
   ]
  },
  {
   "cell_type": "code",
   "execution_count": 7,
   "id": "60a02ae8",
   "metadata": {},
   "outputs": [
    {
     "name": "stdout",
     "output_type": "stream",
     "text": [
      "   customer_id  recency  frequency  monetary  age\n",
      "0            1        5          2     230.0   25\n",
      "1            2        2          2     220.0   30\n",
      "2            3        6          1      15.0   22\n",
      "3            4        4          1      50.0   35\n",
      "4            5        0          1     300.0   28\n"
     ]
    }
   ],
   "source": [
    "# Gabungkan recency, frequency, dan monetary\n",
    "customer_data = recency_df.merge(frequency_df, on='customer_id').merge(monetary_df, on='customer_id')\n",
    "\n",
    "# Tambahkan atribut pelanggan (seperti umur)\n",
    "customer_attributes = df[['customer_id', 'age']].drop_duplicates()\n",
    "customer_data = customer_data.merge(customer_attributes, on='customer_id')\n",
    "\n",
    "# Tampilkan hasil\n",
    "print(customer_data.head())"
   ]
  }
 ],
 "metadata": {
  "kernelspec": {
   "display_name": "tf_env",
   "language": "python",
   "name": "python3"
  },
  "language_info": {
   "codemirror_mode": {
    "name": "ipython",
    "version": 3
   },
   "file_extension": ".py",
   "mimetype": "text/x-python",
   "name": "python",
   "nbconvert_exporter": "python",
   "pygments_lexer": "ipython3",
   "version": "3.10.16"
  }
 },
 "nbformat": 4,
 "nbformat_minor": 5
}

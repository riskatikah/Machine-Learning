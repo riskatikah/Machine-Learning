{
 "cells": [
  {
   "cell_type": "code",
   "execution_count": 1,
   "id": "66708053",
   "metadata": {},
   "outputs": [],
   "source": [
    "import requests\n",
    "from bs4 import BeautifulSoup"
   ]
  },
  {
   "cell_type": "code",
   "execution_count": 2,
   "id": "9fc19382",
   "metadata": {},
   "outputs": [],
   "source": [
    "url = \"https://en.wikipedia.org/wiki/List_of_largest_companies_in_the_United_States_by_revenue\"\n",
    "response = requests.get(url)\n",
    "soup = BeautifulSoup(response.content, 'html.parser')\n"
   ]
  },
  {
   "cell_type": "code",
   "execution_count": 3,
   "id": "7c5958fd",
   "metadata": {},
   "outputs": [],
   "source": [
    "paragraphs = soup.find_all(\"p\")"
   ]
  },
  {
   "cell_type": "code",
   "execution_count": 4,
   "id": "37a0ae99",
   "metadata": {},
   "outputs": [],
   "source": [
    "cleaned_paragraphs = [p.get_text(strip=True) for p in paragraphs if p.get_text(strip=True)]\n"
   ]
  },
  {
   "cell_type": "code",
   "execution_count": 5,
   "id": "2147f28a",
   "metadata": {},
   "outputs": [],
   "source": [
    "import pandas as pd\n",
    "df = pd.DataFrame({\n",
    "    \"paragraph_index\": list(range(1, len(cleaned_paragraphs)+1)),\n",
    "    \"text\": cleaned_paragraphs\n",
    "})"
   ]
  },
  {
   "cell_type": "code",
   "execution_count": 6,
   "id": "762934cc",
   "metadata": {},
   "outputs": [
    {
     "data": {
      "application/vnd.microsoft.datawrangler.viewer.v0+json": {
       "columns": [
        {
         "name": "index",
         "rawType": "int64",
         "type": "integer"
        },
        {
         "name": "paragraph_index",
         "rawType": "int64",
         "type": "integer"
        },
        {
         "name": "text",
         "rawType": "object",
         "type": "string"
        }
       ],
       "conversionMethod": "pd.DataFrame",
       "ref": "9a9ae0c5-12b1-497c-b307-468bfe3fb76d",
       "rows": [
        [
         "0",
         "1",
         "This list comprises the largest companies currently in theUnited Statesbyrevenueas of 2024, according to theFortune 500tally of companies andForbes."
        ],
        [
         "1",
         "2",
         "The Fortune 500 list of companies includes onlypublicly traded companies, also includingtax inversioncompanies. There are also corporations having foundation in the United States, such as corporate headquarters, operational headquarters and independent subsidiaries. The list excludes largeprivately held companiessuch asCargillandKoch Industrieswhose financial data is not necessarily available to the public. However, this list does include severalgovernment-sponsored enterprisesthat were created by acts ofCongressand later became publicly traded."
        ],
        [
         "2",
         "3",
         "Below are the 100 largest companies by revenue in 2024 (mostly forfiscal year2023), according to theFortune 500list.[1]"
        ],
        [
         "3",
         "4",
         "Below are the 10 largest private companies by revenue in 2023 (mostly for fiscal year 2022), according toForbes.[2]"
        ],
        [
         "4",
         "5",
         "The 10 most profitable companies in 2024 according to the Fortune 500.[3]"
        ]
       ],
       "shape": {
        "columns": 2,
        "rows": 5
       }
      },
      "text/html": [
       "<div>\n",
       "<style scoped>\n",
       "    .dataframe tbody tr th:only-of-type {\n",
       "        vertical-align: middle;\n",
       "    }\n",
       "\n",
       "    .dataframe tbody tr th {\n",
       "        vertical-align: top;\n",
       "    }\n",
       "\n",
       "    .dataframe thead th {\n",
       "        text-align: right;\n",
       "    }\n",
       "</style>\n",
       "<table border=\"1\" class=\"dataframe\">\n",
       "  <thead>\n",
       "    <tr style=\"text-align: right;\">\n",
       "      <th></th>\n",
       "      <th>paragraph_index</th>\n",
       "      <th>text</th>\n",
       "    </tr>\n",
       "  </thead>\n",
       "  <tbody>\n",
       "    <tr>\n",
       "      <th>0</th>\n",
       "      <td>1</td>\n",
       "      <td>This list comprises the largest companies curr...</td>\n",
       "    </tr>\n",
       "    <tr>\n",
       "      <th>1</th>\n",
       "      <td>2</td>\n",
       "      <td>The Fortune 500 list of companies includes onl...</td>\n",
       "    </tr>\n",
       "    <tr>\n",
       "      <th>2</th>\n",
       "      <td>3</td>\n",
       "      <td>Below are the 100 largest companies by revenue...</td>\n",
       "    </tr>\n",
       "    <tr>\n",
       "      <th>3</th>\n",
       "      <td>4</td>\n",
       "      <td>Below are the 10 largest private companies by ...</td>\n",
       "    </tr>\n",
       "    <tr>\n",
       "      <th>4</th>\n",
       "      <td>5</td>\n",
       "      <td>The 10 most profitable companies in 2024 accor...</td>\n",
       "    </tr>\n",
       "  </tbody>\n",
       "</table>\n",
       "</div>"
      ],
      "text/plain": [
       "   paragraph_index                                               text\n",
       "0                1  This list comprises the largest companies curr...\n",
       "1                2  The Fortune 500 list of companies includes onl...\n",
       "2                3  Below are the 100 largest companies by revenue...\n",
       "3                4  Below are the 10 largest private companies by ...\n",
       "4                5  The 10 most profitable companies in 2024 accor..."
      ]
     },
     "execution_count": 6,
     "metadata": {},
     "output_type": "execute_result"
    }
   ],
   "source": [
    "df.head()"
   ]
  }
 ],
 "metadata": {
  "kernelspec": {
   "display_name": "tf_env",
   "language": "python",
   "name": "python3"
  },
  "language_info": {
   "codemirror_mode": {
    "name": "ipython",
    "version": 3
   },
   "file_extension": ".py",
   "mimetype": "text/x-python",
   "name": "python",
   "nbconvert_exporter": "python",
   "pygments_lexer": "ipython3",
   "version": "3.10.16"
  }
 },
 "nbformat": 4,
 "nbformat_minor": 5
}

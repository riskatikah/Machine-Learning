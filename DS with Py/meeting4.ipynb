{
 "cells": [
  {
   "cell_type": "code",
   "execution_count": 5,
   "metadata": {},
   "outputs": [
    {
     "name": "stdout",
     "output_type": "stream",
     "text": [
      "[1, 2, 3, 4, 5]\n",
      "1\n",
      "[1, 2, 3]\n",
      "[1, 2, 3, 4, 'hello']\n",
      "2\n"
     ]
    }
   ],
   "source": [
    "mylist = [1, 2, 3, 4, 5]\n",
    "\n",
    "print(mylist)\n",
    "print(mylist[0])\n",
    "print(mylist[0:3])\n",
    "mylist[4]='hello'\n",
    "print(mylist)\n",
    "del mylist[0]\n",
    "print (mylist[0])\n"
   ]
  },
  {
   "cell_type": "code",
   "execution_count": 34,
   "metadata": {},
   "outputs": [
    {
     "name": "stdout",
     "output_type": "stream",
     "text": [
      "3\n",
      "[1, 2, 3, 4, 5, 6]\n",
      "[1, 2, 3, 4, 5, 'hai']\n",
      "[1, 2, 3, 4, 5, 'hai', 1, 2, 3, 4, 5, 'hai', 1, 2, 3, 4, 5, 'hai']\n",
      "velue true\n",
      "[1, 2, 3, 4, 5, 'hai', 8]\n"
     ]
    }
   ],
   "source": [
    "z = len([1,2,3]) \n",
    "print(z)\n",
    "\n",
    "myList = [1,2,3] + [4,5,6]\n",
    "print (myList)\n",
    "\n",
    "myList[5]='hai'\n",
    "print(myList) \n",
    "\n",
    "x = myList * 3 \n",
    "print(x)\n",
    "\n",
    "if 3 in (x):\n",
    "    print('velue true')\n",
    "else:\n",
    "    print('velue False')\n",
    "\n",
    "myList.append(8) #add new velue\n",
    "print(myList)\n",
    "\n"
   ]
  },
  {
   "cell_type": "code",
   "execution_count": 41,
   "metadata": {},
   "outputs": [
    {
     "name": "stdout",
     "output_type": "stream",
     "text": [
      "[1, 2, 3]\n"
     ]
    }
   ],
   "source": [
    "\n",
    "def addValToList(list, val):\n",
    "    if val in list:\n",
    "        print(val, \"Value already exists\")\n",
    "    else:\n",
    "        mylist.append(val)\n",
    "        return list\n",
    "    \n",
    "list = [1,2,3]\n",
    "addValToList(list,4)\n",
    "print(list)"
   ]
  },
  {
   "cell_type": "code",
   "execution_count": 46,
   "metadata": {},
   "outputs": [
    {
     "name": "stdout",
     "output_type": "stream",
     "text": [
      "1\n",
      "3\n",
      "5\n",
      "7\n",
      "9\n"
     ]
    }
   ],
   "source": [
    "def findMoNum():\n",
    "    num = 1  \n",
    "    while num < 10:  \n",
    "        if num % 2 != 0: \n",
    "            print(num)\n",
    "        num += 1  \n",
    "\n",
    "findMoNum()\n",
    "\n",
    "    "
   ]
  },
  {
   "cell_type": "code",
   "execution_count": 44,
   "metadata": {},
   "outputs": [
    {
     "name": "stdout",
     "output_type": "stream",
     "text": [
      "1\n",
      "2\n",
      "3\n",
      "4\n",
      "5\n",
      "1\n",
      "1\n",
      "1\n",
      "1\n",
      "1\n"
     ]
    }
   ],
   "source": [
    "count = 0\n",
    "while(count < 5):\n",
    "    print(myList[count])\n",
    "    count += 1\n",
    "    \n",
    "    \n",
    "count = 0\n",
    "while(count < 5):\n",
    "    print(myList[0])\n",
    "    count += 1"
   ]
  },
  {
   "cell_type": "code",
   "execution_count": 49,
   "metadata": {},
   "outputs": [
    {
     "name": "stdout",
     "output_type": "stream",
     "text": [
      "[10, 15, 30, 45, 50, 60, 90]\n"
     ]
    }
   ],
   "source": [
    "def findModBy(mylist, num):\n",
    "    newlist = []\n",
    "    \n",
    "    for x in mylist:\n",
    "        if x % num == 0:\n",
    "            newlist.append(x)\n",
    "    \n",
    "    return newlist  # Mengembalikan hasil list angka yang bisa dibagi num\n",
    "\n",
    "    if len(mylist) == 0:\n",
    "        return print(\"no velue can be divided by\", num)\n",
    "    else:\n",
    "        return print(\"velue can divided by\", num, \"are\",  mylist)\n",
    "\n",
    "# Contoh penggunaan\n",
    "mylist = [10, 15, 23, 30, 45, 50, 60, 77, 90]  \n",
    "result = findModBy(mylist, 5)\n",
    "print(result)  \n"
   ]
  },
  {
   "cell_type": "code",
   "execution_count": 50,
   "metadata": {},
   "outputs": [
    {
     "name": "stdout",
     "output_type": "stream",
     "text": [
      "Values that can be divided by 5 are: [10, 15, 30, 45, 50, 60, 90]\n",
      "No values can be divided by 5\n"
     ]
    }
   ],
   "source": [
    "def findModBy(mylist, num):\n",
    "    newlist = []\n",
    "    index = 0\n",
    "    \n",
    "    while index < len(mylist):\n",
    "        if mylist[index] % num == 0:\n",
    "            newlist.append(mylist[index])\n",
    "        index += 1  # Increment indeks agar tidak terjadi infinite loop\n",
    "\n",
    "    if len(newlist) == 0:\n",
    "        return \"No values can be divided by \" + str(num)\n",
    "    else:\n",
    "        return \"Values that can be divided by \" + str(num) + \" are: \" + str(newlist)\n",
    "\n",
    "# Contoh penggunaan\n",
    "mylist = [10, 15, 23, 30, 45, 50, 60, 77, 90]\n",
    "result = findModBy(mylist, 5)\n",
    "print(result)  # Output: Values that can be divided by 5 are: [10, 15, 30, 45, 50, 60, 90]\n",
    "\n",
    "# Contoh jika tidak ada angka yang bisa dibagi\n",
    "mylist = [1, 2, 3, 7, 11]\n",
    "result = findModBy(mylist, 5)\n",
    "print(result)  # Output: No values can be divided by 5\n"
   ]
  }
 ],
 "metadata": {
  "kernelspec": {
   "display_name": "Python 3",
   "language": "python",
   "name": "python3"
  },
  "language_info": {
   "codemirror_mode": {
    "name": "ipython",
    "version": 3
   },
   "file_extension": ".py",
   "mimetype": "text/x-python",
   "name": "python",
   "nbconvert_exporter": "python",
   "pygments_lexer": "ipython3",
   "version": "3.12.5"
  }
 },
 "nbformat": 4,
 "nbformat_minor": 2
}

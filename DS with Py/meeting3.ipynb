{
 "cells": [
  {
   "cell_type": "code",
   "execution_count": 17,
   "metadata": {},
   "outputs": [
    {
     "name": "stdout",
     "output_type": "stream",
     "text": [
      "good morning\n"
     ]
    }
   ],
   "source": [
    "def sayHello():\n",
    "    print('good morning')\n",
    "    \n",
    "sayHello()\n"
   ]
  },
  {
   "cell_type": "code",
   "execution_count": 19,
   "metadata": {},
   "outputs": [
    {
     "name": "stdout",
     "output_type": "stream",
     "text": [
      "hello Riska\n",
      "hai Riska\n"
     ]
    }
   ],
   "source": [
    "def function(x):\n",
    "  print(x + \" Riska\")\n",
    "\n",
    "function(\"hello\")\n",
    "function(\"hai\")"
   ]
  },
  {
   "cell_type": "code",
   "execution_count": 22,
   "metadata": {},
   "outputs": [
    {
     "name": "stdout",
     "output_type": "stream",
     "text": [
      "5\n",
      "7\n",
      "500\n"
     ]
    }
   ],
   "source": [
    "def addNumber(a, b):\n",
    "    result = a + b\n",
    "    return result\n",
    "\n",
    "print (addNumber(2, 3))\n",
    "\n",
    "def addNumber(a, b):\n",
    "    result = a + b\n",
    "    return result\n",
    "\n",
    "myresult = addNumber(2, 5)\n",
    "print(myresult)\n",
    "\n",
    "def getresult(a,b):\n",
    "    result = addNumber(a, b)\n",
    "    return print(result)\n",
    "\n",
    "print(addNumber(300, 200))"
   ]
  },
  {
   "cell_type": "code",
   "execution_count": 24,
   "metadata": {},
   "outputs": [
    {
     "name": "stdout",
     "output_type": "stream",
     "text": [
      "The youngest child is Linus\n",
      "The youngest child is Emil\n",
      "His last name is Tobias\n"
     ]
    }
   ],
   "source": [
    "# keyword argument\n",
    "def my_function(child3, child2, child1):\n",
    "  print(\"The youngest child is \" + child3)\n",
    "\n",
    "my_function(child1 = \"Emil\", child2 = \"Tobias\", child3 = \"Linus\")\n",
    "\n",
    "def my_function(*kids): \n",
    "  print(\"The youngest child is \" + kids[0])\n",
    "\n",
    "my_function(\"Emil\", \"Tobias\", \"Linus\")\n",
    "\n",
    "def my_function(**kid):\n",
    "  print(\"His last name is \" + kid[\"fname\"])\n",
    "\n",
    "my_function(fname = \"Tobias\", lname = \"Refsnes\")\n"
   ]
  },
  {
   "cell_type": "code",
   "execution_count": 28,
   "metadata": {},
   "outputs": [
    {
     "name": "stdout",
     "output_type": "stream",
     "text": [
      "your grade is A\n"
     ]
    }
   ],
   "source": [
    "def grading(score):\n",
    "    if score > 85:\n",
    "        print(\"your grade is A\")\n",
    "    elif score > 75:\n",
    "        print(\"your grade is B\")\n",
    "    elif score > 60:\n",
    "        print(\"your grade is C\")\n",
    "    elif sore >= 50:\n",
    "        print(\"your grade is D\")\n",
    "    else:\n",
    "        print(\"your grade is E\")\n",
    "\n",
    "       \n",
    "grading(87)"
   ]
  },
  {
   "cell_type": "code",
   "execution_count": 46,
   "metadata": {},
   "outputs": [
    {
     "name": "stdout",
     "output_type": "stream",
     "text": [
      "Your grade is E must retake the exam.\n"
     ]
    }
   ],
   "source": [
    "def checkScore(x):\n",
    "    if x >= 100 or x <= 0:\n",
    "        return 0\n",
    "    else:\n",
    "        return 1\n",
    "    \n",
    "def retakeStatus(y):\n",
    "    if y <= 60:  \n",
    "        return 1\n",
    "    else:\n",
    "        return 0 \n",
    "\n",
    "\n",
    "def grading(score):\n",
    "    if checkScore(score):\n",
    "        if score > 85:\n",
    "            print(\"A\")\n",
    "        elif score > 75:\n",
    "            print(\"B\")\n",
    "        elif score > 60:\n",
    "            print(\"C\")\n",
    "        elif score >= 50:\n",
    "            if retakeStatus(score):\n",
    "                print(\"Your grade is D must retake the exam.\")\n",
    "            else:\n",
    "                print(\"You passed successfully!\")\n",
    "        else:\n",
    "            if retakeStatus(score):\n",
    "                print(\"Your grade is E must retake the exam.\")\n",
    "            else:\n",
    "                print(\"You passed successfully!\")\n",
    "    else:\n",
    "        print(\"Invalid number!\")\n",
    "                \n",
    "\n",
    "grading(40)\n"
   ]
  },
  {
   "cell_type": "code",
   "execution_count": null,
   "metadata": {},
   "outputs": [],
   "source": [
    "def checkScore(x):\n",
    "    if x >= 100 or x <= 0:\n",
    "        return 0\n",
    "    else:\n",
    "        return 1\n",
    "    \n",
    "def chackStatus(y):\n",
    "    if y <= 60:  \n",
    "        return 1\n",
    "    else:\n",
    "        return 0 \n",
    "\n",
    "\n",
    "def grading(score):\n",
    "    if checkScore(score):\n",
    "        if score > 85:\n",
    "            grade ='A'\n",
    "            status = chackStatus(grade)\n",
    "            return grade, status\n",
    "        elif score > 75:\n",
    "            print(\"B\")\n",
    "        elif score > 60:\n",
    "            print(\"C\")\n",
    "        elif score >= 50:\n",
    "            if retakeStatus(score):\n",
    "                print(\"Your grade is D must retake the exam.\")\n",
    "            else:\n",
    "                print(\"You passed successfully!\")\n",
    "        else:\n",
    "            if retakeStatus(score):\n",
    "                print(\"Your grade is E must retake the exam.\")\n",
    "            else:\n",
    "                print(\"You passed successfully!\")\n",
    "    else:\n",
    "        print(\"Invalid number!\")\n",
    "                \n",
    "\n",
    "grading(40)\n"
   ]
  }
 ],
 "metadata": {
  "kernelspec": {
   "display_name": "Python 3",
   "language": "python",
   "name": "python3"
  },
  "language_info": {
   "codemirror_mode": {
    "name": "ipython",
    "version": 3
   },
   "file_extension": ".py",
   "mimetype": "text/x-python",
   "name": "python",
   "nbconvert_exporter": "python",
   "pygments_lexer": "ipython3",
   "version": "3.12.5"
  }
 },
 "nbformat": 4,
 "nbformat_minor": 2
}

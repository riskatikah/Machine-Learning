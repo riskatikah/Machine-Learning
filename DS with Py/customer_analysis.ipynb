{
 "cells": [
  {
   "cell_type": "code",
   "execution_count": 23,
   "metadata": {},
   "outputs": [],
   "source": [
    "import pandas as pd\n",
    "import numpy as np\n",
    "import matplotlib.pyplot as plt\n",
    "import seaborn as sns\n",
    "from mlxtend.frequent_patterns import apriori, association_rules  \n",
    "from ast import literal_eval\n",
    "from mlxtend.preprocessing import TransactionEncoder \n",
    "\n",
    "import warnings\n",
    "warnings.filterwarnings(\"ignore\")\n"
   ]
  },
  {
   "cell_type": "code",
   "execution_count": 24,
   "metadata": {},
   "outputs": [
    {
     "data": {
      "application/vnd.microsoft.datawrangler.viewer.v0+json": {
       "columns": [
        {
         "name": "index",
         "rawType": "int64",
         "type": "integer"
        },
        {
         "name": "Customer_ID",
         "rawType": "object",
         "type": "string"
        },
        {
         "name": "Age_Group",
         "rawType": "object",
         "type": "string"
        },
        {
         "name": "Gender",
         "rawType": "object",
         "type": "string"
        },
        {
         "name": "Income_Level",
         "rawType": "object",
         "type": "string"
        },
        {
         "name": "Marital_Status",
         "rawType": "object",
         "type": "string"
        },
        {
         "name": "Occupation",
         "rawType": "object",
         "type": "string"
        },
        {
         "name": "Shopping_Frequency",
         "rawType": "object",
         "type": "string"
        },
        {
         "name": "Purchase_History",
         "rawType": "object",
         "type": "string"
        },
        {
         "name": "Preferred_Brand",
         "rawType": "object",
         "type": "string"
        },
        {
         "name": "Recommended_Product",
         "rawType": "object",
         "type": "string"
        }
       ],
       "conversionMethod": "pd.DataFrame",
       "ref": "fd603df0-fb4c-4a50-bff1-be7aa576768b",
       "rows": [
        [
         "0",
         "CUST_001",
         "Senior",
         "Male",
         "Medium",
         "Divorced",
         "Professional",
         "Moderate",
         "['Clothing', 'Beauty Products']",
         "No Preference",
         "Home Decor"
        ],
        [
         "1",
         "CUST_002",
         "Adult",
         "Female",
         "Low",
         "Divorced",
         "Student",
         "Frequent",
         "['Electronics', 'Groceries']",
         "No Preference",
         "Home Decor"
        ],
        [
         "2",
         "CUST_003",
         "Adult",
         "Female",
         "High",
         "Single",
         "Retired",
         "Moderate",
         "['Gaming Accessories', 'Fitness Equipment']",
         "No Preference",
         "Clothing"
        ],
        [
         "3",
         "CUST_004",
         "Adult",
         "Female",
         "High",
         "Single",
         "Retired",
         "Moderate",
         "['Gaming Accessories', 'Groceries', 'Fitness Equipment', 'Home Decor']",
         "Brand_C",
         "Books"
        ],
        [
         "4",
         "CUST_005",
         "Adult",
         "Female",
         "High",
         "Married",
         "Student",
         "Frequent",
         "['Sports Gear', 'Gaming Accessories', 'Fitness Equipment', 'Clothing']",
         "No Preference",
         "Books"
        ]
       ],
       "shape": {
        "columns": 10,
        "rows": 5
       }
      },
      "text/html": [
       "<div>\n",
       "<style scoped>\n",
       "    .dataframe tbody tr th:only-of-type {\n",
       "        vertical-align: middle;\n",
       "    }\n",
       "\n",
       "    .dataframe tbody tr th {\n",
       "        vertical-align: top;\n",
       "    }\n",
       "\n",
       "    .dataframe thead th {\n",
       "        text-align: right;\n",
       "    }\n",
       "</style>\n",
       "<table border=\"1\" class=\"dataframe\">\n",
       "  <thead>\n",
       "    <tr style=\"text-align: right;\">\n",
       "      <th></th>\n",
       "      <th>Customer_ID</th>\n",
       "      <th>Age_Group</th>\n",
       "      <th>Gender</th>\n",
       "      <th>Income_Level</th>\n",
       "      <th>Marital_Status</th>\n",
       "      <th>Occupation</th>\n",
       "      <th>Shopping_Frequency</th>\n",
       "      <th>Purchase_History</th>\n",
       "      <th>Preferred_Brand</th>\n",
       "      <th>Recommended_Product</th>\n",
       "    </tr>\n",
       "  </thead>\n",
       "  <tbody>\n",
       "    <tr>\n",
       "      <th>0</th>\n",
       "      <td>CUST_001</td>\n",
       "      <td>Senior</td>\n",
       "      <td>Male</td>\n",
       "      <td>Medium</td>\n",
       "      <td>Divorced</td>\n",
       "      <td>Professional</td>\n",
       "      <td>Moderate</td>\n",
       "      <td>['Clothing', 'Beauty Products']</td>\n",
       "      <td>No Preference</td>\n",
       "      <td>Home Decor</td>\n",
       "    </tr>\n",
       "    <tr>\n",
       "      <th>1</th>\n",
       "      <td>CUST_002</td>\n",
       "      <td>Adult</td>\n",
       "      <td>Female</td>\n",
       "      <td>Low</td>\n",
       "      <td>Divorced</td>\n",
       "      <td>Student</td>\n",
       "      <td>Frequent</td>\n",
       "      <td>['Electronics', 'Groceries']</td>\n",
       "      <td>No Preference</td>\n",
       "      <td>Home Decor</td>\n",
       "    </tr>\n",
       "    <tr>\n",
       "      <th>2</th>\n",
       "      <td>CUST_003</td>\n",
       "      <td>Adult</td>\n",
       "      <td>Female</td>\n",
       "      <td>High</td>\n",
       "      <td>Single</td>\n",
       "      <td>Retired</td>\n",
       "      <td>Moderate</td>\n",
       "      <td>['Gaming Accessories', 'Fitness Equipment']</td>\n",
       "      <td>No Preference</td>\n",
       "      <td>Clothing</td>\n",
       "    </tr>\n",
       "    <tr>\n",
       "      <th>3</th>\n",
       "      <td>CUST_004</td>\n",
       "      <td>Adult</td>\n",
       "      <td>Female</td>\n",
       "      <td>High</td>\n",
       "      <td>Single</td>\n",
       "      <td>Retired</td>\n",
       "      <td>Moderate</td>\n",
       "      <td>['Gaming Accessories', 'Groceries', 'Fitness E...</td>\n",
       "      <td>Brand_C</td>\n",
       "      <td>Books</td>\n",
       "    </tr>\n",
       "    <tr>\n",
       "      <th>4</th>\n",
       "      <td>CUST_005</td>\n",
       "      <td>Adult</td>\n",
       "      <td>Female</td>\n",
       "      <td>High</td>\n",
       "      <td>Married</td>\n",
       "      <td>Student</td>\n",
       "      <td>Frequent</td>\n",
       "      <td>['Sports Gear', 'Gaming Accessories', 'Fitness...</td>\n",
       "      <td>No Preference</td>\n",
       "      <td>Books</td>\n",
       "    </tr>\n",
       "  </tbody>\n",
       "</table>\n",
       "</div>"
      ],
      "text/plain": [
       "  Customer_ID Age_Group  Gender Income_Level Marital_Status    Occupation  \\\n",
       "0    CUST_001    Senior    Male       Medium       Divorced  Professional   \n",
       "1    CUST_002     Adult  Female          Low       Divorced       Student   \n",
       "2    CUST_003     Adult  Female         High         Single       Retired   \n",
       "3    CUST_004     Adult  Female         High         Single       Retired   \n",
       "4    CUST_005     Adult  Female         High        Married       Student   \n",
       "\n",
       "  Shopping_Frequency                                   Purchase_History  \\\n",
       "0           Moderate                    ['Clothing', 'Beauty Products']   \n",
       "1           Frequent                       ['Electronics', 'Groceries']   \n",
       "2           Moderate        ['Gaming Accessories', 'Fitness Equipment']   \n",
       "3           Moderate  ['Gaming Accessories', 'Groceries', 'Fitness E...   \n",
       "4           Frequent  ['Sports Gear', 'Gaming Accessories', 'Fitness...   \n",
       "\n",
       "  Preferred_Brand Recommended_Product  \n",
       "0   No Preference          Home Decor  \n",
       "1   No Preference          Home Decor  \n",
       "2   No Preference            Clothing  \n",
       "3         Brand_C               Books  \n",
       "4   No Preference               Books  "
      ]
     },
     "execution_count": 24,
     "metadata": {},
     "output_type": "execute_result"
    }
   ],
   "source": [
    "df = pd.read_csv('customer_product_recommendation.csv')\n",
    "df.head()"
   ]
  },
  {
   "cell_type": "code",
   "execution_count": 25,
   "metadata": {},
   "outputs": [],
   "source": [
    "df['Purchase_History'] = df['Purchase_History'].apply(literal_eval)"
   ]
  },
  {
   "cell_type": "code",
   "execution_count": 26,
   "metadata": {},
   "outputs": [],
   "source": [
    "\n",
    "# Gabungkan 'Age_Group' dan 'Gender' ke dalam setiap transaksi\n",
    "df['Transaction_items'] = df.apply(lambda data: [data['Age_Group'], data['Gender']] + data['Purchase_History'], axis=1)\n"
   ]
  },
  {
   "cell_type": "code",
   "execution_count": 27,
   "metadata": {},
   "outputs": [
    {
     "name": "stdout",
     "output_type": "stream",
     "text": [
      "   Adult  Beauty Products  Books  Clothing  Electronics  Female  \\\n",
      "0  False             True  False      True        False   False   \n",
      "1   True            False  False     False         True    True   \n",
      "2   True            False  False     False        False    True   \n",
      "3   True            False  False     False        False    True   \n",
      "4   True            False  False      True        False    True   \n",
      "\n",
      "   Fitness Equipment  Gaming Accessories  Groceries  Home Decor   Male  \\\n",
      "0              False               False      False       False   True   \n",
      "1              False               False       True       False  False   \n",
      "2               True                True      False       False  False   \n",
      "3               True                True       True        True  False   \n",
      "4               True                True      False       False  False   \n",
      "\n",
      "   Senior  Sports Gear   Toys  Young  \n",
      "0    True        False  False  False  \n",
      "1   False        False  False  False  \n",
      "2   False        False  False  False  \n",
      "3   False        False  False  False  \n",
      "4   False         True  False  False  \n"
     ]
    }
   ],
   "source": [
    "# Konversi transaksi ke dalam format list\n",
    "transaction = df['Transaction_items'].tolist()\n",
    "\n",
    "# Gunakan TransactionEncoder\n",
    "encoder = TransactionEncoder()\n",
    "transData = encoder.fit_transform(transaction)\n",
    "\n",
    "# Ubah hasil encoding menjadi DataFrame\n",
    "transData = pd.DataFrame(transData, columns=encoder.columns_)\n",
    "\n",
    "# Tampilkan DataFrame hasil encoding\n",
    "print(transData.head())\n"
   ]
  },
  {
   "cell_type": "code",
   "execution_count": 31,
   "metadata": {},
   "outputs": [
    {
     "name": "stdout",
     "output_type": "stream",
     "text": [
      "            antecedents         consequents  support  confidence      lift\n",
      "0               (Adult)   (Beauty Products)     0.13    0.371429  1.198157\n",
      "1     (Beauty Products)             (Adult)     0.13    0.419355  1.198157\n",
      "2               (Books)             (Adult)     0.11    0.323529  0.924370\n",
      "3               (Adult)             (Books)     0.11    0.314286  0.924370\n",
      "4               (Adult)          (Clothing)     0.13    0.371429  1.092437\n",
      "..                  ...                 ...      ...         ...       ...\n",
      "181   (Male, Groceries)             (Young)     0.10    0.454545  1.623377\n",
      "182  (Young, Groceries)              (Male)     0.10    0.769231  1.569859\n",
      "183              (Male)  (Young, Groceries)     0.10    0.204082  1.569859\n",
      "184             (Young)   (Male, Groceries)     0.10    0.357143  1.623377\n",
      "185         (Groceries)       (Male, Young)     0.10    0.222222  1.234568\n",
      "\n",
      "[186 rows x 5 columns]\n"
     ]
    }
   ],
   "source": [
    "# find the association\n",
    "frequentItem = apriori(transData, min_support=0.1, use_colnames=True)\n",
    "rules = association_rules(frequentItem, metric='lift', min_threshold=0.5)\n",
    "# Mencetak aturan asosiasi dengan kolom yang benar\n",
    "print(rules[['antecedents', 'consequents', 'support', 'confidence', 'lift']])\n"
   ]
  }
 ],
 "metadata": {
  "kernelspec": {
   "display_name": "base",
   "language": "python",
   "name": "python3"
  },
  "language_info": {
   "codemirror_mode": {
    "name": "ipython",
    "version": 3
   },
   "file_extension": ".py",
   "mimetype": "text/x-python",
   "name": "python",
   "nbconvert_exporter": "python",
   "pygments_lexer": "ipython3",
   "version": "3.12.4"
  }
 },
 "nbformat": 4,
 "nbformat_minor": 2
}
